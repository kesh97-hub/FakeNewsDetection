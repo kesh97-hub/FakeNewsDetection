{
  "cells": [
    {
      "cell_type": "code",
      "execution_count": null,
      "metadata": {
        "id": "7ruABdpIRGKy"
      },
      "outputs": [],
      "source": []
    },
    {
      "cell_type": "markdown",
      "metadata": {
        "id": "Woogb-5oRHHu"
      },
      "source": [
        "# libs & pre processing"
      ]
    },
    {
      "cell_type": "code",
      "execution_count": 1,
      "metadata": {
        "colab": {
          "base_uri": "https://localhost:8080/"
        },
        "id": "_KIdtlD5nvVc",
        "outputId": "3e0118cd-64b5-44aa-9505-ebc805a60bed"
      },
      "outputs": [
        {
          "output_type": "stream",
          "name": "stdout",
          "text": [
            "Requirement already satisfied: spacy in /usr/local/lib/python3.10/dist-packages (3.7.4)\n",
            "Requirement already satisfied: spacy-legacy<3.1.0,>=3.0.11 in /usr/local/lib/python3.10/dist-packages (from spacy) (3.0.12)\n",
            "Requirement already satisfied: spacy-loggers<2.0.0,>=1.0.0 in /usr/local/lib/python3.10/dist-packages (from spacy) (1.0.5)\n",
            "Requirement already satisfied: murmurhash<1.1.0,>=0.28.0 in /usr/local/lib/python3.10/dist-packages (from spacy) (1.0.10)\n",
            "Requirement already satisfied: cymem<2.1.0,>=2.0.2 in /usr/local/lib/python3.10/dist-packages (from spacy) (2.0.8)\n",
            "Requirement already satisfied: preshed<3.1.0,>=3.0.2 in /usr/local/lib/python3.10/dist-packages (from spacy) (3.0.9)\n",
            "Requirement already satisfied: thinc<8.3.0,>=8.2.2 in /usr/local/lib/python3.10/dist-packages (from spacy) (8.2.3)\n",
            "Requirement already satisfied: wasabi<1.2.0,>=0.9.1 in /usr/local/lib/python3.10/dist-packages (from spacy) (1.1.2)\n",
            "Requirement already satisfied: srsly<3.0.0,>=2.4.3 in /usr/local/lib/python3.10/dist-packages (from spacy) (2.4.8)\n",
            "Requirement already satisfied: catalogue<2.1.0,>=2.0.6 in /usr/local/lib/python3.10/dist-packages (from spacy) (2.0.10)\n",
            "Requirement already satisfied: weasel<0.4.0,>=0.1.0 in /usr/local/lib/python3.10/dist-packages (from spacy) (0.3.4)\n",
            "Requirement already satisfied: typer<0.10.0,>=0.3.0 in /usr/local/lib/python3.10/dist-packages (from spacy) (0.9.4)\n",
            "Requirement already satisfied: smart-open<7.0.0,>=5.2.1 in /usr/local/lib/python3.10/dist-packages (from spacy) (6.4.0)\n",
            "Requirement already satisfied: tqdm<5.0.0,>=4.38.0 in /usr/local/lib/python3.10/dist-packages (from spacy) (4.66.4)\n",
            "Requirement already satisfied: requests<3.0.0,>=2.13.0 in /usr/local/lib/python3.10/dist-packages (from spacy) (2.31.0)\n",
            "Requirement already satisfied: pydantic!=1.8,!=1.8.1,<3.0.0,>=1.7.4 in /usr/local/lib/python3.10/dist-packages (from spacy) (2.7.1)\n",
            "Requirement already satisfied: jinja2 in /usr/local/lib/python3.10/dist-packages (from spacy) (3.1.3)\n",
            "Requirement already satisfied: setuptools in /usr/local/lib/python3.10/dist-packages (from spacy) (67.7.2)\n",
            "Requirement already satisfied: packaging>=20.0 in /usr/local/lib/python3.10/dist-packages (from spacy) (24.0)\n",
            "Requirement already satisfied: langcodes<4.0.0,>=3.2.0 in /usr/local/lib/python3.10/dist-packages (from spacy) (3.4.0)\n",
            "Requirement already satisfied: numpy>=1.19.0 in /usr/local/lib/python3.10/dist-packages (from spacy) (1.25.2)\n",
            "Requirement already satisfied: language-data>=1.2 in /usr/local/lib/python3.10/dist-packages (from langcodes<4.0.0,>=3.2.0->spacy) (1.2.0)\n",
            "Requirement already satisfied: annotated-types>=0.4.0 in /usr/local/lib/python3.10/dist-packages (from pydantic!=1.8,!=1.8.1,<3.0.0,>=1.7.4->spacy) (0.6.0)\n",
            "Requirement already satisfied: pydantic-core==2.18.2 in /usr/local/lib/python3.10/dist-packages (from pydantic!=1.8,!=1.8.1,<3.0.0,>=1.7.4->spacy) (2.18.2)\n",
            "Requirement already satisfied: typing-extensions>=4.6.1 in /usr/local/lib/python3.10/dist-packages (from pydantic!=1.8,!=1.8.1,<3.0.0,>=1.7.4->spacy) (4.11.0)\n",
            "Requirement already satisfied: charset-normalizer<4,>=2 in /usr/local/lib/python3.10/dist-packages (from requests<3.0.0,>=2.13.0->spacy) (3.3.2)\n",
            "Requirement already satisfied: idna<4,>=2.5 in /usr/local/lib/python3.10/dist-packages (from requests<3.0.0,>=2.13.0->spacy) (3.7)\n",
            "Requirement already satisfied: urllib3<3,>=1.21.1 in /usr/local/lib/python3.10/dist-packages (from requests<3.0.0,>=2.13.0->spacy) (2.0.7)\n",
            "Requirement already satisfied: certifi>=2017.4.17 in /usr/local/lib/python3.10/dist-packages (from requests<3.0.0,>=2.13.0->spacy) (2024.2.2)\n",
            "Requirement already satisfied: blis<0.8.0,>=0.7.8 in /usr/local/lib/python3.10/dist-packages (from thinc<8.3.0,>=8.2.2->spacy) (0.7.11)\n",
            "Requirement already satisfied: confection<1.0.0,>=0.0.1 in /usr/local/lib/python3.10/dist-packages (from thinc<8.3.0,>=8.2.2->spacy) (0.1.4)\n",
            "Requirement already satisfied: click<9.0.0,>=7.1.1 in /usr/local/lib/python3.10/dist-packages (from typer<0.10.0,>=0.3.0->spacy) (8.1.7)\n",
            "Requirement already satisfied: cloudpathlib<0.17.0,>=0.7.0 in /usr/local/lib/python3.10/dist-packages (from weasel<0.4.0,>=0.1.0->spacy) (0.16.0)\n",
            "Requirement already satisfied: MarkupSafe>=2.0 in /usr/local/lib/python3.10/dist-packages (from jinja2->spacy) (2.1.5)\n",
            "Requirement already satisfied: marisa-trie>=0.7.7 in /usr/local/lib/python3.10/dist-packages (from language-data>=1.2->langcodes<4.0.0,>=3.2.0->spacy) (1.1.0)\n",
            "Requirement already satisfied: torchdata in /usr/local/lib/python3.10/dist-packages (0.7.1)\n",
            "Requirement already satisfied: urllib3>=1.25 in /usr/local/lib/python3.10/dist-packages (from torchdata) (2.0.7)\n",
            "Requirement already satisfied: requests in /usr/local/lib/python3.10/dist-packages (from torchdata) (2.31.0)\n",
            "Requirement already satisfied: torch>=2 in /usr/local/lib/python3.10/dist-packages (from torchdata) (2.2.1+cu121)\n",
            "Requirement already satisfied: filelock in /usr/local/lib/python3.10/dist-packages (from torch>=2->torchdata) (3.14.0)\n",
            "Requirement already satisfied: typing-extensions>=4.8.0 in /usr/local/lib/python3.10/dist-packages (from torch>=2->torchdata) (4.11.0)\n",
            "Requirement already satisfied: sympy in /usr/local/lib/python3.10/dist-packages (from torch>=2->torchdata) (1.12)\n",
            "Requirement already satisfied: networkx in /usr/local/lib/python3.10/dist-packages (from torch>=2->torchdata) (3.3)\n",
            "Requirement already satisfied: jinja2 in /usr/local/lib/python3.10/dist-packages (from torch>=2->torchdata) (3.1.3)\n",
            "Requirement already satisfied: fsspec in /usr/local/lib/python3.10/dist-packages (from torch>=2->torchdata) (2023.6.0)\n",
            "Collecting nvidia-cuda-nvrtc-cu12==12.1.105 (from torch>=2->torchdata)\n",
            "  Using cached nvidia_cuda_nvrtc_cu12-12.1.105-py3-none-manylinux1_x86_64.whl (23.7 MB)\n",
            "Collecting nvidia-cuda-runtime-cu12==12.1.105 (from torch>=2->torchdata)\n",
            "  Using cached nvidia_cuda_runtime_cu12-12.1.105-py3-none-manylinux1_x86_64.whl (823 kB)\n",
            "Collecting nvidia-cuda-cupti-cu12==12.1.105 (from torch>=2->torchdata)\n",
            "  Using cached nvidia_cuda_cupti_cu12-12.1.105-py3-none-manylinux1_x86_64.whl (14.1 MB)\n",
            "Collecting nvidia-cudnn-cu12==8.9.2.26 (from torch>=2->torchdata)\n",
            "  Using cached nvidia_cudnn_cu12-8.9.2.26-py3-none-manylinux1_x86_64.whl (731.7 MB)\n",
            "Collecting nvidia-cublas-cu12==12.1.3.1 (from torch>=2->torchdata)\n",
            "  Using cached nvidia_cublas_cu12-12.1.3.1-py3-none-manylinux1_x86_64.whl (410.6 MB)\n",
            "Collecting nvidia-cufft-cu12==11.0.2.54 (from torch>=2->torchdata)\n",
            "  Using cached nvidia_cufft_cu12-11.0.2.54-py3-none-manylinux1_x86_64.whl (121.6 MB)\n",
            "Collecting nvidia-curand-cu12==10.3.2.106 (from torch>=2->torchdata)\n",
            "  Using cached nvidia_curand_cu12-10.3.2.106-py3-none-manylinux1_x86_64.whl (56.5 MB)\n",
            "Collecting nvidia-cusolver-cu12==11.4.5.107 (from torch>=2->torchdata)\n",
            "  Using cached nvidia_cusolver_cu12-11.4.5.107-py3-none-manylinux1_x86_64.whl (124.2 MB)\n",
            "Collecting nvidia-cusparse-cu12==12.1.0.106 (from torch>=2->torchdata)\n",
            "  Using cached nvidia_cusparse_cu12-12.1.0.106-py3-none-manylinux1_x86_64.whl (196.0 MB)\n",
            "Collecting nvidia-nccl-cu12==2.19.3 (from torch>=2->torchdata)\n",
            "  Using cached nvidia_nccl_cu12-2.19.3-py3-none-manylinux1_x86_64.whl (166.0 MB)\n",
            "Collecting nvidia-nvtx-cu12==12.1.105 (from torch>=2->torchdata)\n",
            "  Using cached nvidia_nvtx_cu12-12.1.105-py3-none-manylinux1_x86_64.whl (99 kB)\n",
            "Requirement already satisfied: triton==2.2.0 in /usr/local/lib/python3.10/dist-packages (from torch>=2->torchdata) (2.2.0)\n",
            "Collecting nvidia-nvjitlink-cu12 (from nvidia-cusolver-cu12==11.4.5.107->torch>=2->torchdata)\n",
            "  Using cached nvidia_nvjitlink_cu12-12.4.127-py3-none-manylinux2014_x86_64.whl (21.1 MB)\n",
            "Requirement already satisfied: charset-normalizer<4,>=2 in /usr/local/lib/python3.10/dist-packages (from requests->torchdata) (3.3.2)\n",
            "Requirement already satisfied: idna<4,>=2.5 in /usr/local/lib/python3.10/dist-packages (from requests->torchdata) (3.7)\n",
            "Requirement already satisfied: certifi>=2017.4.17 in /usr/local/lib/python3.10/dist-packages (from requests->torchdata) (2024.2.2)\n",
            "Requirement already satisfied: MarkupSafe>=2.0 in /usr/local/lib/python3.10/dist-packages (from jinja2->torch>=2->torchdata) (2.1.5)\n",
            "Requirement already satisfied: mpmath>=0.19 in /usr/local/lib/python3.10/dist-packages (from sympy->torch>=2->torchdata) (1.3.0)\n",
            "Installing collected packages: nvidia-nvtx-cu12, nvidia-nvjitlink-cu12, nvidia-nccl-cu12, nvidia-curand-cu12, nvidia-cufft-cu12, nvidia-cuda-runtime-cu12, nvidia-cuda-nvrtc-cu12, nvidia-cuda-cupti-cu12, nvidia-cublas-cu12, nvidia-cusparse-cu12, nvidia-cudnn-cu12, nvidia-cusolver-cu12\n",
            "Successfully installed nvidia-cublas-cu12-12.1.3.1 nvidia-cuda-cupti-cu12-12.1.105 nvidia-cuda-nvrtc-cu12-12.1.105 nvidia-cuda-runtime-cu12-12.1.105 nvidia-cudnn-cu12-8.9.2.26 nvidia-cufft-cu12-11.0.2.54 nvidia-curand-cu12-10.3.2.106 nvidia-cusolver-cu12-11.4.5.107 nvidia-cusparse-cu12-12.1.0.106 nvidia-nccl-cu12-2.19.3 nvidia-nvjitlink-cu12-12.4.127 nvidia-nvtx-cu12-12.1.105\n",
            "Requirement already satisfied: torchtext in /usr/local/lib/python3.10/dist-packages (0.17.1)\n",
            "Requirement already satisfied: tqdm in /usr/local/lib/python3.10/dist-packages (from torchtext) (4.66.4)\n",
            "Requirement already satisfied: requests in /usr/local/lib/python3.10/dist-packages (from torchtext) (2.31.0)\n",
            "Requirement already satisfied: torch==2.2.1 in /usr/local/lib/python3.10/dist-packages (from torchtext) (2.2.1+cu121)\n",
            "Requirement already satisfied: numpy in /usr/local/lib/python3.10/dist-packages (from torchtext) (1.25.2)\n",
            "Requirement already satisfied: torchdata==0.7.1 in /usr/local/lib/python3.10/dist-packages (from torchtext) (0.7.1)\n",
            "Requirement already satisfied: filelock in /usr/local/lib/python3.10/dist-packages (from torch==2.2.1->torchtext) (3.14.0)\n",
            "Requirement already satisfied: typing-extensions>=4.8.0 in /usr/local/lib/python3.10/dist-packages (from torch==2.2.1->torchtext) (4.11.0)\n",
            "Requirement already satisfied: sympy in /usr/local/lib/python3.10/dist-packages (from torch==2.2.1->torchtext) (1.12)\n",
            "Requirement already satisfied: networkx in /usr/local/lib/python3.10/dist-packages (from torch==2.2.1->torchtext) (3.3)\n",
            "Requirement already satisfied: jinja2 in /usr/local/lib/python3.10/dist-packages (from torch==2.2.1->torchtext) (3.1.3)\n",
            "Requirement already satisfied: fsspec in /usr/local/lib/python3.10/dist-packages (from torch==2.2.1->torchtext) (2023.6.0)\n",
            "Requirement already satisfied: nvidia-cuda-nvrtc-cu12==12.1.105 in /usr/local/lib/python3.10/dist-packages (from torch==2.2.1->torchtext) (12.1.105)\n",
            "Requirement already satisfied: nvidia-cuda-runtime-cu12==12.1.105 in /usr/local/lib/python3.10/dist-packages (from torch==2.2.1->torchtext) (12.1.105)\n",
            "Requirement already satisfied: nvidia-cuda-cupti-cu12==12.1.105 in /usr/local/lib/python3.10/dist-packages (from torch==2.2.1->torchtext) (12.1.105)\n",
            "Requirement already satisfied: nvidia-cudnn-cu12==8.9.2.26 in /usr/local/lib/python3.10/dist-packages (from torch==2.2.1->torchtext) (8.9.2.26)\n",
            "Requirement already satisfied: nvidia-cublas-cu12==12.1.3.1 in /usr/local/lib/python3.10/dist-packages (from torch==2.2.1->torchtext) (12.1.3.1)\n",
            "Requirement already satisfied: nvidia-cufft-cu12==11.0.2.54 in /usr/local/lib/python3.10/dist-packages (from torch==2.2.1->torchtext) (11.0.2.54)\n",
            "Requirement already satisfied: nvidia-curand-cu12==10.3.2.106 in /usr/local/lib/python3.10/dist-packages (from torch==2.2.1->torchtext) (10.3.2.106)\n",
            "Requirement already satisfied: nvidia-cusolver-cu12==11.4.5.107 in /usr/local/lib/python3.10/dist-packages (from torch==2.2.1->torchtext) (11.4.5.107)\n",
            "Requirement already satisfied: nvidia-cusparse-cu12==12.1.0.106 in /usr/local/lib/python3.10/dist-packages (from torch==2.2.1->torchtext) (12.1.0.106)\n",
            "Requirement already satisfied: nvidia-nccl-cu12==2.19.3 in /usr/local/lib/python3.10/dist-packages (from torch==2.2.1->torchtext) (2.19.3)\n",
            "Requirement already satisfied: nvidia-nvtx-cu12==12.1.105 in /usr/local/lib/python3.10/dist-packages (from torch==2.2.1->torchtext) (12.1.105)\n",
            "Requirement already satisfied: triton==2.2.0 in /usr/local/lib/python3.10/dist-packages (from torch==2.2.1->torchtext) (2.2.0)\n",
            "Requirement already satisfied: urllib3>=1.25 in /usr/local/lib/python3.10/dist-packages (from torchdata==0.7.1->torchtext) (2.0.7)\n",
            "Requirement already satisfied: nvidia-nvjitlink-cu12 in /usr/local/lib/python3.10/dist-packages (from nvidia-cusolver-cu12==11.4.5.107->torch==2.2.1->torchtext) (12.4.127)\n",
            "Requirement already satisfied: charset-normalizer<4,>=2 in /usr/local/lib/python3.10/dist-packages (from requests->torchtext) (3.3.2)\n",
            "Requirement already satisfied: idna<4,>=2.5 in /usr/local/lib/python3.10/dist-packages (from requests->torchtext) (3.7)\n",
            "Requirement already satisfied: certifi>=2017.4.17 in /usr/local/lib/python3.10/dist-packages (from requests->torchtext) (2024.2.2)\n",
            "Requirement already satisfied: MarkupSafe>=2.0 in /usr/local/lib/python3.10/dist-packages (from jinja2->torch==2.2.1->torchtext) (2.1.5)\n",
            "Requirement already satisfied: mpmath>=0.19 in /usr/local/lib/python3.10/dist-packages (from sympy->torch==2.2.1->torchtext) (1.3.0)\n"
          ]
        }
      ],
      "source": [
        "!pip install spacy\n",
        "!pip install torchdata\n",
        "!pip install torchtext"
      ]
    },
    {
      "cell_type": "code",
      "execution_count": 2,
      "metadata": {
        "colab": {
          "base_uri": "https://localhost:8080/"
        },
        "id": "AXgl2gJ8obGu",
        "outputId": "67ae16c9-8642-42ac-8edc-c8b7529341ae"
      },
      "outputs": [
        {
          "output_type": "stream",
          "name": "stdout",
          "text": [
            "Mounted at /content/drive\n"
          ]
        }
      ],
      "source": [
        "from google.colab import drive\n",
        "drive.mount('/content/drive')"
      ]
    },
    {
      "cell_type": "code",
      "execution_count": 3,
      "metadata": {
        "id": "0r4bsXjFojLU"
      },
      "outputs": [],
      "source": [
        "import pandas as pd\n",
        "df_clean = pd.read_csv('/content/drive/MyDrive/DL_Proj-main/DL_Proj-changes/Combined_Data.csv')"
      ]
    },
    {
      "cell_type": "code",
      "execution_count": 4,
      "metadata": {
        "colab": {
          "base_uri": "https://localhost:8080/",
          "height": 423
        },
        "id": "9K_loHurojH3",
        "outputId": "c06b7689-3c01-4827-a2ba-ac997767e521"
      },
      "outputs": [
        {
          "output_type": "execute_result",
          "data": {
            "text/plain": [
              "       Unnamed: 0                                          statement  label\n",
              "0               0  Did Miley Cyrus and Liam Hemsworth secretly ge...      0\n",
              "1               1  Paris Jackson & Cara Delevingne Enjoy Night Ou...      0\n",
              "2               2  Celebrities Join Tax March in Protest of Donal...      0\n",
              "3               3  Cindy Crawford's daughter Kaia Gerber wears a ...      0\n",
              "4               4      Full List of 2018 Oscar Nominations – Variety      0\n",
              "...           ...                                                ...    ...\n",
              "28860        1275  \"I supported (the surge), I argued for it. I'm...      0\n",
              "28861        1276  Says U.S. Rep. Charles Bass wants to privatize...      0\n",
              "28862        1278  In the past two years, Democrats have spent mo...      0\n",
              "28863        1282  \"A new poll shows 62 percent support the presi...      0\n",
              "28864        1283  No one claims the report vindicating New Jerse...      0\n",
              "\n",
              "[28865 rows x 3 columns]"
            ],
            "text/html": [
              "\n",
              "  <div id=\"df-16d860ee-2a9f-4e46-a8c5-274784468bbe\" class=\"colab-df-container\">\n",
              "    <div>\n",
              "<style scoped>\n",
              "    .dataframe tbody tr th:only-of-type {\n",
              "        vertical-align: middle;\n",
              "    }\n",
              "\n",
              "    .dataframe tbody tr th {\n",
              "        vertical-align: top;\n",
              "    }\n",
              "\n",
              "    .dataframe thead th {\n",
              "        text-align: right;\n",
              "    }\n",
              "</style>\n",
              "<table border=\"1\" class=\"dataframe\">\n",
              "  <thead>\n",
              "    <tr style=\"text-align: right;\">\n",
              "      <th></th>\n",
              "      <th>Unnamed: 0</th>\n",
              "      <th>statement</th>\n",
              "      <th>label</th>\n",
              "    </tr>\n",
              "  </thead>\n",
              "  <tbody>\n",
              "    <tr>\n",
              "      <th>0</th>\n",
              "      <td>0</td>\n",
              "      <td>Did Miley Cyrus and Liam Hemsworth secretly ge...</td>\n",
              "      <td>0</td>\n",
              "    </tr>\n",
              "    <tr>\n",
              "      <th>1</th>\n",
              "      <td>1</td>\n",
              "      <td>Paris Jackson &amp; Cara Delevingne Enjoy Night Ou...</td>\n",
              "      <td>0</td>\n",
              "    </tr>\n",
              "    <tr>\n",
              "      <th>2</th>\n",
              "      <td>2</td>\n",
              "      <td>Celebrities Join Tax March in Protest of Donal...</td>\n",
              "      <td>0</td>\n",
              "    </tr>\n",
              "    <tr>\n",
              "      <th>3</th>\n",
              "      <td>3</td>\n",
              "      <td>Cindy Crawford's daughter Kaia Gerber wears a ...</td>\n",
              "      <td>0</td>\n",
              "    </tr>\n",
              "    <tr>\n",
              "      <th>4</th>\n",
              "      <td>4</td>\n",
              "      <td>Full List of 2018 Oscar Nominations – Variety</td>\n",
              "      <td>0</td>\n",
              "    </tr>\n",
              "    <tr>\n",
              "      <th>...</th>\n",
              "      <td>...</td>\n",
              "      <td>...</td>\n",
              "      <td>...</td>\n",
              "    </tr>\n",
              "    <tr>\n",
              "      <th>28860</th>\n",
              "      <td>1275</td>\n",
              "      <td>\"I supported (the surge), I argued for it. I'm...</td>\n",
              "      <td>0</td>\n",
              "    </tr>\n",
              "    <tr>\n",
              "      <th>28861</th>\n",
              "      <td>1276</td>\n",
              "      <td>Says U.S. Rep. Charles Bass wants to privatize...</td>\n",
              "      <td>0</td>\n",
              "    </tr>\n",
              "    <tr>\n",
              "      <th>28862</th>\n",
              "      <td>1278</td>\n",
              "      <td>In the past two years, Democrats have spent mo...</td>\n",
              "      <td>0</td>\n",
              "    </tr>\n",
              "    <tr>\n",
              "      <th>28863</th>\n",
              "      <td>1282</td>\n",
              "      <td>\"A new poll shows 62 percent support the presi...</td>\n",
              "      <td>0</td>\n",
              "    </tr>\n",
              "    <tr>\n",
              "      <th>28864</th>\n",
              "      <td>1283</td>\n",
              "      <td>No one claims the report vindicating New Jerse...</td>\n",
              "      <td>0</td>\n",
              "    </tr>\n",
              "  </tbody>\n",
              "</table>\n",
              "<p>28865 rows × 3 columns</p>\n",
              "</div>\n",
              "    <div class=\"colab-df-buttons\">\n",
              "\n",
              "  <div class=\"colab-df-container\">\n",
              "    <button class=\"colab-df-convert\" onclick=\"convertToInteractive('df-16d860ee-2a9f-4e46-a8c5-274784468bbe')\"\n",
              "            title=\"Convert this dataframe to an interactive table.\"\n",
              "            style=\"display:none;\">\n",
              "\n",
              "  <svg xmlns=\"http://www.w3.org/2000/svg\" height=\"24px\" viewBox=\"0 -960 960 960\">\n",
              "    <path d=\"M120-120v-720h720v720H120Zm60-500h600v-160H180v160Zm220 220h160v-160H400v160Zm0 220h160v-160H400v160ZM180-400h160v-160H180v160Zm440 0h160v-160H620v160ZM180-180h160v-160H180v160Zm440 0h160v-160H620v160Z\"/>\n",
              "  </svg>\n",
              "    </button>\n",
              "\n",
              "  <style>\n",
              "    .colab-df-container {\n",
              "      display:flex;\n",
              "      gap: 12px;\n",
              "    }\n",
              "\n",
              "    .colab-df-convert {\n",
              "      background-color: #E8F0FE;\n",
              "      border: none;\n",
              "      border-radius: 50%;\n",
              "      cursor: pointer;\n",
              "      display: none;\n",
              "      fill: #1967D2;\n",
              "      height: 32px;\n",
              "      padding: 0 0 0 0;\n",
              "      width: 32px;\n",
              "    }\n",
              "\n",
              "    .colab-df-convert:hover {\n",
              "      background-color: #E2EBFA;\n",
              "      box-shadow: 0px 1px 2px rgba(60, 64, 67, 0.3), 0px 1px 3px 1px rgba(60, 64, 67, 0.15);\n",
              "      fill: #174EA6;\n",
              "    }\n",
              "\n",
              "    .colab-df-buttons div {\n",
              "      margin-bottom: 4px;\n",
              "    }\n",
              "\n",
              "    [theme=dark] .colab-df-convert {\n",
              "      background-color: #3B4455;\n",
              "      fill: #D2E3FC;\n",
              "    }\n",
              "\n",
              "    [theme=dark] .colab-df-convert:hover {\n",
              "      background-color: #434B5C;\n",
              "      box-shadow: 0px 1px 3px 1px rgba(0, 0, 0, 0.15);\n",
              "      filter: drop-shadow(0px 1px 2px rgba(0, 0, 0, 0.3));\n",
              "      fill: #FFFFFF;\n",
              "    }\n",
              "  </style>\n",
              "\n",
              "    <script>\n",
              "      const buttonEl =\n",
              "        document.querySelector('#df-16d860ee-2a9f-4e46-a8c5-274784468bbe button.colab-df-convert');\n",
              "      buttonEl.style.display =\n",
              "        google.colab.kernel.accessAllowed ? 'block' : 'none';\n",
              "\n",
              "      async function convertToInteractive(key) {\n",
              "        const element = document.querySelector('#df-16d860ee-2a9f-4e46-a8c5-274784468bbe');\n",
              "        const dataTable =\n",
              "          await google.colab.kernel.invokeFunction('convertToInteractive',\n",
              "                                                    [key], {});\n",
              "        if (!dataTable) return;\n",
              "\n",
              "        const docLinkHtml = 'Like what you see? Visit the ' +\n",
              "          '<a target=\"_blank\" href=https://colab.research.google.com/notebooks/data_table.ipynb>data table notebook</a>'\n",
              "          + ' to learn more about interactive tables.';\n",
              "        element.innerHTML = '';\n",
              "        dataTable['output_type'] = 'display_data';\n",
              "        await google.colab.output.renderOutput(dataTable, element);\n",
              "        const docLink = document.createElement('div');\n",
              "        docLink.innerHTML = docLinkHtml;\n",
              "        element.appendChild(docLink);\n",
              "      }\n",
              "    </script>\n",
              "  </div>\n",
              "\n",
              "\n",
              "<div id=\"df-8779b58f-7325-41e9-97d3-7d26257925d1\">\n",
              "  <button class=\"colab-df-quickchart\" onclick=\"quickchart('df-8779b58f-7325-41e9-97d3-7d26257925d1')\"\n",
              "            title=\"Suggest charts\"\n",
              "            style=\"display:none;\">\n",
              "\n",
              "<svg xmlns=\"http://www.w3.org/2000/svg\" height=\"24px\"viewBox=\"0 0 24 24\"\n",
              "     width=\"24px\">\n",
              "    <g>\n",
              "        <path d=\"M19 3H5c-1.1 0-2 .9-2 2v14c0 1.1.9 2 2 2h14c1.1 0 2-.9 2-2V5c0-1.1-.9-2-2-2zM9 17H7v-7h2v7zm4 0h-2V7h2v10zm4 0h-2v-4h2v4z\"/>\n",
              "    </g>\n",
              "</svg>\n",
              "  </button>\n",
              "\n",
              "<style>\n",
              "  .colab-df-quickchart {\n",
              "      --bg-color: #E8F0FE;\n",
              "      --fill-color: #1967D2;\n",
              "      --hover-bg-color: #E2EBFA;\n",
              "      --hover-fill-color: #174EA6;\n",
              "      --disabled-fill-color: #AAA;\n",
              "      --disabled-bg-color: #DDD;\n",
              "  }\n",
              "\n",
              "  [theme=dark] .colab-df-quickchart {\n",
              "      --bg-color: #3B4455;\n",
              "      --fill-color: #D2E3FC;\n",
              "      --hover-bg-color: #434B5C;\n",
              "      --hover-fill-color: #FFFFFF;\n",
              "      --disabled-bg-color: #3B4455;\n",
              "      --disabled-fill-color: #666;\n",
              "  }\n",
              "\n",
              "  .colab-df-quickchart {\n",
              "    background-color: var(--bg-color);\n",
              "    border: none;\n",
              "    border-radius: 50%;\n",
              "    cursor: pointer;\n",
              "    display: none;\n",
              "    fill: var(--fill-color);\n",
              "    height: 32px;\n",
              "    padding: 0;\n",
              "    width: 32px;\n",
              "  }\n",
              "\n",
              "  .colab-df-quickchart:hover {\n",
              "    background-color: var(--hover-bg-color);\n",
              "    box-shadow: 0 1px 2px rgba(60, 64, 67, 0.3), 0 1px 3px 1px rgba(60, 64, 67, 0.15);\n",
              "    fill: var(--button-hover-fill-color);\n",
              "  }\n",
              "\n",
              "  .colab-df-quickchart-complete:disabled,\n",
              "  .colab-df-quickchart-complete:disabled:hover {\n",
              "    background-color: var(--disabled-bg-color);\n",
              "    fill: var(--disabled-fill-color);\n",
              "    box-shadow: none;\n",
              "  }\n",
              "\n",
              "  .colab-df-spinner {\n",
              "    border: 2px solid var(--fill-color);\n",
              "    border-color: transparent;\n",
              "    border-bottom-color: var(--fill-color);\n",
              "    animation:\n",
              "      spin 1s steps(1) infinite;\n",
              "  }\n",
              "\n",
              "  @keyframes spin {\n",
              "    0% {\n",
              "      border-color: transparent;\n",
              "      border-bottom-color: var(--fill-color);\n",
              "      border-left-color: var(--fill-color);\n",
              "    }\n",
              "    20% {\n",
              "      border-color: transparent;\n",
              "      border-left-color: var(--fill-color);\n",
              "      border-top-color: var(--fill-color);\n",
              "    }\n",
              "    30% {\n",
              "      border-color: transparent;\n",
              "      border-left-color: var(--fill-color);\n",
              "      border-top-color: var(--fill-color);\n",
              "      border-right-color: var(--fill-color);\n",
              "    }\n",
              "    40% {\n",
              "      border-color: transparent;\n",
              "      border-right-color: var(--fill-color);\n",
              "      border-top-color: var(--fill-color);\n",
              "    }\n",
              "    60% {\n",
              "      border-color: transparent;\n",
              "      border-right-color: var(--fill-color);\n",
              "    }\n",
              "    80% {\n",
              "      border-color: transparent;\n",
              "      border-right-color: var(--fill-color);\n",
              "      border-bottom-color: var(--fill-color);\n",
              "    }\n",
              "    90% {\n",
              "      border-color: transparent;\n",
              "      border-bottom-color: var(--fill-color);\n",
              "    }\n",
              "  }\n",
              "</style>\n",
              "\n",
              "  <script>\n",
              "    async function quickchart(key) {\n",
              "      const quickchartButtonEl =\n",
              "        document.querySelector('#' + key + ' button');\n",
              "      quickchartButtonEl.disabled = true;  // To prevent multiple clicks.\n",
              "      quickchartButtonEl.classList.add('colab-df-spinner');\n",
              "      try {\n",
              "        const charts = await google.colab.kernel.invokeFunction(\n",
              "            'suggestCharts', [key], {});\n",
              "      } catch (error) {\n",
              "        console.error('Error during call to suggestCharts:', error);\n",
              "      }\n",
              "      quickchartButtonEl.classList.remove('colab-df-spinner');\n",
              "      quickchartButtonEl.classList.add('colab-df-quickchart-complete');\n",
              "    }\n",
              "    (() => {\n",
              "      let quickchartButtonEl =\n",
              "        document.querySelector('#df-8779b58f-7325-41e9-97d3-7d26257925d1 button');\n",
              "      quickchartButtonEl.style.display =\n",
              "        google.colab.kernel.accessAllowed ? 'block' : 'none';\n",
              "    })();\n",
              "  </script>\n",
              "</div>\n",
              "\n",
              "  <div id=\"id_f16333ee-c7d5-48c5-b240-6fda4088b22d\">\n",
              "    <style>\n",
              "      .colab-df-generate {\n",
              "        background-color: #E8F0FE;\n",
              "        border: none;\n",
              "        border-radius: 50%;\n",
              "        cursor: pointer;\n",
              "        display: none;\n",
              "        fill: #1967D2;\n",
              "        height: 32px;\n",
              "        padding: 0 0 0 0;\n",
              "        width: 32px;\n",
              "      }\n",
              "\n",
              "      .colab-df-generate:hover {\n",
              "        background-color: #E2EBFA;\n",
              "        box-shadow: 0px 1px 2px rgba(60, 64, 67, 0.3), 0px 1px 3px 1px rgba(60, 64, 67, 0.15);\n",
              "        fill: #174EA6;\n",
              "      }\n",
              "\n",
              "      [theme=dark] .colab-df-generate {\n",
              "        background-color: #3B4455;\n",
              "        fill: #D2E3FC;\n",
              "      }\n",
              "\n",
              "      [theme=dark] .colab-df-generate:hover {\n",
              "        background-color: #434B5C;\n",
              "        box-shadow: 0px 1px 3px 1px rgba(0, 0, 0, 0.15);\n",
              "        filter: drop-shadow(0px 1px 2px rgba(0, 0, 0, 0.3));\n",
              "        fill: #FFFFFF;\n",
              "      }\n",
              "    </style>\n",
              "    <button class=\"colab-df-generate\" onclick=\"generateWithVariable('df_clean')\"\n",
              "            title=\"Generate code using this dataframe.\"\n",
              "            style=\"display:none;\">\n",
              "\n",
              "  <svg xmlns=\"http://www.w3.org/2000/svg\" height=\"24px\"viewBox=\"0 0 24 24\"\n",
              "       width=\"24px\">\n",
              "    <path d=\"M7,19H8.4L18.45,9,17,7.55,7,17.6ZM5,21V16.75L18.45,3.32a2,2,0,0,1,2.83,0l1.4,1.43a1.91,1.91,0,0,1,.58,1.4,1.91,1.91,0,0,1-.58,1.4L9.25,21ZM18.45,9,17,7.55Zm-12,3A5.31,5.31,0,0,0,4.9,8.1,5.31,5.31,0,0,0,1,6.5,5.31,5.31,0,0,0,4.9,4.9,5.31,5.31,0,0,0,6.5,1,5.31,5.31,0,0,0,8.1,4.9,5.31,5.31,0,0,0,12,6.5,5.46,5.46,0,0,0,6.5,12Z\"/>\n",
              "  </svg>\n",
              "    </button>\n",
              "    <script>\n",
              "      (() => {\n",
              "      const buttonEl =\n",
              "        document.querySelector('#id_f16333ee-c7d5-48c5-b240-6fda4088b22d button.colab-df-generate');\n",
              "      buttonEl.style.display =\n",
              "        google.colab.kernel.accessAllowed ? 'block' : 'none';\n",
              "\n",
              "      buttonEl.onclick = () => {\n",
              "        google.colab.notebook.generateWithVariable('df_clean');\n",
              "      }\n",
              "      })();\n",
              "    </script>\n",
              "  </div>\n",
              "\n",
              "    </div>\n",
              "  </div>\n"
            ],
            "application/vnd.google.colaboratory.intrinsic+json": {
              "type": "dataframe",
              "variable_name": "df_clean",
              "summary": "{\n  \"name\": \"df_clean\",\n  \"rows\": 28865,\n  \"fields\": [\n    {\n      \"column\": \"Unnamed: 0\",\n      \"properties\": {\n        \"dtype\": \"number\",\n        \"std\": 4839,\n        \"min\": 0,\n        \"max\": 16816,\n        \"num_unique_values\": 16817,\n        \"samples\": [\n          47,\n          5117,\n          5359\n        ],\n        \"semantic_type\": \"\",\n        \"description\": \"\"\n      }\n    },\n    {\n      \"column\": \"statement\",\n      \"properties\": {\n        \"dtype\": \"string\",\n        \"num_unique_values\": 27380,\n        \"samples\": [\n          \"Somali Immigrant Crashes Car Into Ohio Families Home, Killing The Infant At Home\",\n          \"Did Jennifer Lopez Throw Shade at Drake by Calling Him a 'Booty Call?'\",\n          \"Madonna Throws \\\"Gypsy\\\" Themed Birthday Party\"\n        ],\n        \"semantic_type\": \"\",\n        \"description\": \"\"\n      }\n    },\n    {\n      \"column\": \"label\",\n      \"properties\": {\n        \"dtype\": \"number\",\n        \"std\": 0,\n        \"min\": 0,\n        \"max\": 1,\n        \"num_unique_values\": 2,\n        \"samples\": [\n          1,\n          0\n        ],\n        \"semantic_type\": \"\",\n        \"description\": \"\"\n      }\n    }\n  ]\n}"
            }
          },
          "metadata": {},
          "execution_count": 4
        }
      ],
      "source": [
        "df_clean"
      ]
    },
    {
      "cell_type": "code",
      "execution_count": 5,
      "metadata": {
        "colab": {
          "base_uri": "https://localhost:8080/",
          "height": 423
        },
        "id": "Rjo3sCUcuMNM",
        "outputId": "127d9705-ee49-457f-e1ff-be60673f8b76"
      },
      "outputs": [
        {
          "output_type": "execute_result",
          "data": {
            "text/plain": [
              "                                               statement  label\n",
              "0      Did Miley Cyrus and Liam Hemsworth secretly ge...      0\n",
              "1      Paris Jackson & Cara Delevingne Enjoy Night Ou...      0\n",
              "2      Celebrities Join Tax March in Protest of Donal...      0\n",
              "3      Cindy Crawford's daughter Kaia Gerber wears a ...      0\n",
              "4          Full List of 2018 Oscar Nominations – Variety      0\n",
              "...                                                  ...    ...\n",
              "28860  \"I supported (the surge), I argued for it. I'm...      0\n",
              "28861  Says U.S. Rep. Charles Bass wants to privatize...      0\n",
              "28862  In the past two years, Democrats have spent mo...      0\n",
              "28863  \"A new poll shows 62 percent support the presi...      0\n",
              "28864  No one claims the report vindicating New Jerse...      0\n",
              "\n",
              "[28865 rows x 2 columns]"
            ],
            "text/html": [
              "\n",
              "  <div id=\"df-9ab5403e-bdd2-4699-9958-bf903c499543\" class=\"colab-df-container\">\n",
              "    <div>\n",
              "<style scoped>\n",
              "    .dataframe tbody tr th:only-of-type {\n",
              "        vertical-align: middle;\n",
              "    }\n",
              "\n",
              "    .dataframe tbody tr th {\n",
              "        vertical-align: top;\n",
              "    }\n",
              "\n",
              "    .dataframe thead th {\n",
              "        text-align: right;\n",
              "    }\n",
              "</style>\n",
              "<table border=\"1\" class=\"dataframe\">\n",
              "  <thead>\n",
              "    <tr style=\"text-align: right;\">\n",
              "      <th></th>\n",
              "      <th>statement</th>\n",
              "      <th>label</th>\n",
              "    </tr>\n",
              "  </thead>\n",
              "  <tbody>\n",
              "    <tr>\n",
              "      <th>0</th>\n",
              "      <td>Did Miley Cyrus and Liam Hemsworth secretly ge...</td>\n",
              "      <td>0</td>\n",
              "    </tr>\n",
              "    <tr>\n",
              "      <th>1</th>\n",
              "      <td>Paris Jackson &amp; Cara Delevingne Enjoy Night Ou...</td>\n",
              "      <td>0</td>\n",
              "    </tr>\n",
              "    <tr>\n",
              "      <th>2</th>\n",
              "      <td>Celebrities Join Tax March in Protest of Donal...</td>\n",
              "      <td>0</td>\n",
              "    </tr>\n",
              "    <tr>\n",
              "      <th>3</th>\n",
              "      <td>Cindy Crawford's daughter Kaia Gerber wears a ...</td>\n",
              "      <td>0</td>\n",
              "    </tr>\n",
              "    <tr>\n",
              "      <th>4</th>\n",
              "      <td>Full List of 2018 Oscar Nominations – Variety</td>\n",
              "      <td>0</td>\n",
              "    </tr>\n",
              "    <tr>\n",
              "      <th>...</th>\n",
              "      <td>...</td>\n",
              "      <td>...</td>\n",
              "    </tr>\n",
              "    <tr>\n",
              "      <th>28860</th>\n",
              "      <td>\"I supported (the surge), I argued for it. I'm...</td>\n",
              "      <td>0</td>\n",
              "    </tr>\n",
              "    <tr>\n",
              "      <th>28861</th>\n",
              "      <td>Says U.S. Rep. Charles Bass wants to privatize...</td>\n",
              "      <td>0</td>\n",
              "    </tr>\n",
              "    <tr>\n",
              "      <th>28862</th>\n",
              "      <td>In the past two years, Democrats have spent mo...</td>\n",
              "      <td>0</td>\n",
              "    </tr>\n",
              "    <tr>\n",
              "      <th>28863</th>\n",
              "      <td>\"A new poll shows 62 percent support the presi...</td>\n",
              "      <td>0</td>\n",
              "    </tr>\n",
              "    <tr>\n",
              "      <th>28864</th>\n",
              "      <td>No one claims the report vindicating New Jerse...</td>\n",
              "      <td>0</td>\n",
              "    </tr>\n",
              "  </tbody>\n",
              "</table>\n",
              "<p>28865 rows × 2 columns</p>\n",
              "</div>\n",
              "    <div class=\"colab-df-buttons\">\n",
              "\n",
              "  <div class=\"colab-df-container\">\n",
              "    <button class=\"colab-df-convert\" onclick=\"convertToInteractive('df-9ab5403e-bdd2-4699-9958-bf903c499543')\"\n",
              "            title=\"Convert this dataframe to an interactive table.\"\n",
              "            style=\"display:none;\">\n",
              "\n",
              "  <svg xmlns=\"http://www.w3.org/2000/svg\" height=\"24px\" viewBox=\"0 -960 960 960\">\n",
              "    <path d=\"M120-120v-720h720v720H120Zm60-500h600v-160H180v160Zm220 220h160v-160H400v160Zm0 220h160v-160H400v160ZM180-400h160v-160H180v160Zm440 0h160v-160H620v160ZM180-180h160v-160H180v160Zm440 0h160v-160H620v160Z\"/>\n",
              "  </svg>\n",
              "    </button>\n",
              "\n",
              "  <style>\n",
              "    .colab-df-container {\n",
              "      display:flex;\n",
              "      gap: 12px;\n",
              "    }\n",
              "\n",
              "    .colab-df-convert {\n",
              "      background-color: #E8F0FE;\n",
              "      border: none;\n",
              "      border-radius: 50%;\n",
              "      cursor: pointer;\n",
              "      display: none;\n",
              "      fill: #1967D2;\n",
              "      height: 32px;\n",
              "      padding: 0 0 0 0;\n",
              "      width: 32px;\n",
              "    }\n",
              "\n",
              "    .colab-df-convert:hover {\n",
              "      background-color: #E2EBFA;\n",
              "      box-shadow: 0px 1px 2px rgba(60, 64, 67, 0.3), 0px 1px 3px 1px rgba(60, 64, 67, 0.15);\n",
              "      fill: #174EA6;\n",
              "    }\n",
              "\n",
              "    .colab-df-buttons div {\n",
              "      margin-bottom: 4px;\n",
              "    }\n",
              "\n",
              "    [theme=dark] .colab-df-convert {\n",
              "      background-color: #3B4455;\n",
              "      fill: #D2E3FC;\n",
              "    }\n",
              "\n",
              "    [theme=dark] .colab-df-convert:hover {\n",
              "      background-color: #434B5C;\n",
              "      box-shadow: 0px 1px 3px 1px rgba(0, 0, 0, 0.15);\n",
              "      filter: drop-shadow(0px 1px 2px rgba(0, 0, 0, 0.3));\n",
              "      fill: #FFFFFF;\n",
              "    }\n",
              "  </style>\n",
              "\n",
              "    <script>\n",
              "      const buttonEl =\n",
              "        document.querySelector('#df-9ab5403e-bdd2-4699-9958-bf903c499543 button.colab-df-convert');\n",
              "      buttonEl.style.display =\n",
              "        google.colab.kernel.accessAllowed ? 'block' : 'none';\n",
              "\n",
              "      async function convertToInteractive(key) {\n",
              "        const element = document.querySelector('#df-9ab5403e-bdd2-4699-9958-bf903c499543');\n",
              "        const dataTable =\n",
              "          await google.colab.kernel.invokeFunction('convertToInteractive',\n",
              "                                                    [key], {});\n",
              "        if (!dataTable) return;\n",
              "\n",
              "        const docLinkHtml = 'Like what you see? Visit the ' +\n",
              "          '<a target=\"_blank\" href=https://colab.research.google.com/notebooks/data_table.ipynb>data table notebook</a>'\n",
              "          + ' to learn more about interactive tables.';\n",
              "        element.innerHTML = '';\n",
              "        dataTable['output_type'] = 'display_data';\n",
              "        await google.colab.output.renderOutput(dataTable, element);\n",
              "        const docLink = document.createElement('div');\n",
              "        docLink.innerHTML = docLinkHtml;\n",
              "        element.appendChild(docLink);\n",
              "      }\n",
              "    </script>\n",
              "  </div>\n",
              "\n",
              "\n",
              "<div id=\"df-c9596785-09d4-49e9-9e86-610a1b2789b6\">\n",
              "  <button class=\"colab-df-quickchart\" onclick=\"quickchart('df-c9596785-09d4-49e9-9e86-610a1b2789b6')\"\n",
              "            title=\"Suggest charts\"\n",
              "            style=\"display:none;\">\n",
              "\n",
              "<svg xmlns=\"http://www.w3.org/2000/svg\" height=\"24px\"viewBox=\"0 0 24 24\"\n",
              "     width=\"24px\">\n",
              "    <g>\n",
              "        <path d=\"M19 3H5c-1.1 0-2 .9-2 2v14c0 1.1.9 2 2 2h14c1.1 0 2-.9 2-2V5c0-1.1-.9-2-2-2zM9 17H7v-7h2v7zm4 0h-2V7h2v10zm4 0h-2v-4h2v4z\"/>\n",
              "    </g>\n",
              "</svg>\n",
              "  </button>\n",
              "\n",
              "<style>\n",
              "  .colab-df-quickchart {\n",
              "      --bg-color: #E8F0FE;\n",
              "      --fill-color: #1967D2;\n",
              "      --hover-bg-color: #E2EBFA;\n",
              "      --hover-fill-color: #174EA6;\n",
              "      --disabled-fill-color: #AAA;\n",
              "      --disabled-bg-color: #DDD;\n",
              "  }\n",
              "\n",
              "  [theme=dark] .colab-df-quickchart {\n",
              "      --bg-color: #3B4455;\n",
              "      --fill-color: #D2E3FC;\n",
              "      --hover-bg-color: #434B5C;\n",
              "      --hover-fill-color: #FFFFFF;\n",
              "      --disabled-bg-color: #3B4455;\n",
              "      --disabled-fill-color: #666;\n",
              "  }\n",
              "\n",
              "  .colab-df-quickchart {\n",
              "    background-color: var(--bg-color);\n",
              "    border: none;\n",
              "    border-radius: 50%;\n",
              "    cursor: pointer;\n",
              "    display: none;\n",
              "    fill: var(--fill-color);\n",
              "    height: 32px;\n",
              "    padding: 0;\n",
              "    width: 32px;\n",
              "  }\n",
              "\n",
              "  .colab-df-quickchart:hover {\n",
              "    background-color: var(--hover-bg-color);\n",
              "    box-shadow: 0 1px 2px rgba(60, 64, 67, 0.3), 0 1px 3px 1px rgba(60, 64, 67, 0.15);\n",
              "    fill: var(--button-hover-fill-color);\n",
              "  }\n",
              "\n",
              "  .colab-df-quickchart-complete:disabled,\n",
              "  .colab-df-quickchart-complete:disabled:hover {\n",
              "    background-color: var(--disabled-bg-color);\n",
              "    fill: var(--disabled-fill-color);\n",
              "    box-shadow: none;\n",
              "  }\n",
              "\n",
              "  .colab-df-spinner {\n",
              "    border: 2px solid var(--fill-color);\n",
              "    border-color: transparent;\n",
              "    border-bottom-color: var(--fill-color);\n",
              "    animation:\n",
              "      spin 1s steps(1) infinite;\n",
              "  }\n",
              "\n",
              "  @keyframes spin {\n",
              "    0% {\n",
              "      border-color: transparent;\n",
              "      border-bottom-color: var(--fill-color);\n",
              "      border-left-color: var(--fill-color);\n",
              "    }\n",
              "    20% {\n",
              "      border-color: transparent;\n",
              "      border-left-color: var(--fill-color);\n",
              "      border-top-color: var(--fill-color);\n",
              "    }\n",
              "    30% {\n",
              "      border-color: transparent;\n",
              "      border-left-color: var(--fill-color);\n",
              "      border-top-color: var(--fill-color);\n",
              "      border-right-color: var(--fill-color);\n",
              "    }\n",
              "    40% {\n",
              "      border-color: transparent;\n",
              "      border-right-color: var(--fill-color);\n",
              "      border-top-color: var(--fill-color);\n",
              "    }\n",
              "    60% {\n",
              "      border-color: transparent;\n",
              "      border-right-color: var(--fill-color);\n",
              "    }\n",
              "    80% {\n",
              "      border-color: transparent;\n",
              "      border-right-color: var(--fill-color);\n",
              "      border-bottom-color: var(--fill-color);\n",
              "    }\n",
              "    90% {\n",
              "      border-color: transparent;\n",
              "      border-bottom-color: var(--fill-color);\n",
              "    }\n",
              "  }\n",
              "</style>\n",
              "\n",
              "  <script>\n",
              "    async function quickchart(key) {\n",
              "      const quickchartButtonEl =\n",
              "        document.querySelector('#' + key + ' button');\n",
              "      quickchartButtonEl.disabled = true;  // To prevent multiple clicks.\n",
              "      quickchartButtonEl.classList.add('colab-df-spinner');\n",
              "      try {\n",
              "        const charts = await google.colab.kernel.invokeFunction(\n",
              "            'suggestCharts', [key], {});\n",
              "      } catch (error) {\n",
              "        console.error('Error during call to suggestCharts:', error);\n",
              "      }\n",
              "      quickchartButtonEl.classList.remove('colab-df-spinner');\n",
              "      quickchartButtonEl.classList.add('colab-df-quickchart-complete');\n",
              "    }\n",
              "    (() => {\n",
              "      let quickchartButtonEl =\n",
              "        document.querySelector('#df-c9596785-09d4-49e9-9e86-610a1b2789b6 button');\n",
              "      quickchartButtonEl.style.display =\n",
              "        google.colab.kernel.accessAllowed ? 'block' : 'none';\n",
              "    })();\n",
              "  </script>\n",
              "</div>\n",
              "\n",
              "  <div id=\"id_a33f9872-c521-4698-883b-faa60f2e2eb1\">\n",
              "    <style>\n",
              "      .colab-df-generate {\n",
              "        background-color: #E8F0FE;\n",
              "        border: none;\n",
              "        border-radius: 50%;\n",
              "        cursor: pointer;\n",
              "        display: none;\n",
              "        fill: #1967D2;\n",
              "        height: 32px;\n",
              "        padding: 0 0 0 0;\n",
              "        width: 32px;\n",
              "      }\n",
              "\n",
              "      .colab-df-generate:hover {\n",
              "        background-color: #E2EBFA;\n",
              "        box-shadow: 0px 1px 2px rgba(60, 64, 67, 0.3), 0px 1px 3px 1px rgba(60, 64, 67, 0.15);\n",
              "        fill: #174EA6;\n",
              "      }\n",
              "\n",
              "      [theme=dark] .colab-df-generate {\n",
              "        background-color: #3B4455;\n",
              "        fill: #D2E3FC;\n",
              "      }\n",
              "\n",
              "      [theme=dark] .colab-df-generate:hover {\n",
              "        background-color: #434B5C;\n",
              "        box-shadow: 0px 1px 3px 1px rgba(0, 0, 0, 0.15);\n",
              "        filter: drop-shadow(0px 1px 2px rgba(0, 0, 0, 0.3));\n",
              "        fill: #FFFFFF;\n",
              "      }\n",
              "    </style>\n",
              "    <button class=\"colab-df-generate\" onclick=\"generateWithVariable('df_clean')\"\n",
              "            title=\"Generate code using this dataframe.\"\n",
              "            style=\"display:none;\">\n",
              "\n",
              "  <svg xmlns=\"http://www.w3.org/2000/svg\" height=\"24px\"viewBox=\"0 0 24 24\"\n",
              "       width=\"24px\">\n",
              "    <path d=\"M7,19H8.4L18.45,9,17,7.55,7,17.6ZM5,21V16.75L18.45,3.32a2,2,0,0,1,2.83,0l1.4,1.43a1.91,1.91,0,0,1,.58,1.4,1.91,1.91,0,0,1-.58,1.4L9.25,21ZM18.45,9,17,7.55Zm-12,3A5.31,5.31,0,0,0,4.9,8.1,5.31,5.31,0,0,0,1,6.5,5.31,5.31,0,0,0,4.9,4.9,5.31,5.31,0,0,0,6.5,1,5.31,5.31,0,0,0,8.1,4.9,5.31,5.31,0,0,0,12,6.5,5.46,5.46,0,0,0,6.5,12Z\"/>\n",
              "  </svg>\n",
              "    </button>\n",
              "    <script>\n",
              "      (() => {\n",
              "      const buttonEl =\n",
              "        document.querySelector('#id_a33f9872-c521-4698-883b-faa60f2e2eb1 button.colab-df-generate');\n",
              "      buttonEl.style.display =\n",
              "        google.colab.kernel.accessAllowed ? 'block' : 'none';\n",
              "\n",
              "      buttonEl.onclick = () => {\n",
              "        google.colab.notebook.generateWithVariable('df_clean');\n",
              "      }\n",
              "      })();\n",
              "    </script>\n",
              "  </div>\n",
              "\n",
              "    </div>\n",
              "  </div>\n"
            ],
            "application/vnd.google.colaboratory.intrinsic+json": {
              "type": "dataframe",
              "variable_name": "df_clean",
              "summary": "{\n  \"name\": \"df_clean\",\n  \"rows\": 28865,\n  \"fields\": [\n    {\n      \"column\": \"statement\",\n      \"properties\": {\n        \"dtype\": \"string\",\n        \"num_unique_values\": 27380,\n        \"samples\": [\n          \"Somali Immigrant Crashes Car Into Ohio Families Home, Killing The Infant At Home\",\n          \"Did Jennifer Lopez Throw Shade at Drake by Calling Him a 'Booty Call?'\",\n          \"Madonna Throws \\\"Gypsy\\\" Themed Birthday Party\"\n        ],\n        \"semantic_type\": \"\",\n        \"description\": \"\"\n      }\n    },\n    {\n      \"column\": \"label\",\n      \"properties\": {\n        \"dtype\": \"number\",\n        \"std\": 0,\n        \"min\": 0,\n        \"max\": 1,\n        \"num_unique_values\": 2,\n        \"samples\": [\n          1,\n          0\n        ],\n        \"semantic_type\": \"\",\n        \"description\": \"\"\n      }\n    }\n  ]\n}"
            }
          },
          "metadata": {},
          "execution_count": 5
        }
      ],
      "source": [
        "df_clean=df_clean.drop(columns=['Unnamed: 0'])\n",
        "df_clean"
      ]
    },
    {
      "cell_type": "code",
      "execution_count": 6,
      "metadata": {
        "colab": {
          "base_uri": "https://localhost:8080/"
        },
        "id": "QvolLYGLojC-",
        "outputId": "b2c47e22-dbe4-4fc3-941f-dde2d33e0330"
      },
      "outputs": [
        {
          "output_type": "stream",
          "name": "stderr",
          "text": [
            "[nltk_data] Downloading package stopwords to /root/nltk_data...\n",
            "[nltk_data]   Unzipping corpora/stopwords.zip.\n"
          ]
        }
      ],
      "source": [
        "import re\n",
        "import nltk\n",
        "from nltk.corpus import stopwords\n",
        "\n",
        "nltk.download('stopwords')\n",
        "\n",
        "def remove_punctuations(word):\n",
        "    stop_words = set(stopwords.words('english'))\n",
        "    words = word.split()\n",
        "    pattern=r'[^\\w\\s]'\n",
        "    return re.sub(pattern,' ',word).lower()\n",
        "def remove_stopwords(word):\n",
        "    stop_words = set(stopwords.words('english'))\n",
        "    words = word.split()\n",
        "    filtered_words = [word.lower() for word in words if word.lower() not in stop_words]\n",
        "    return ' '.join(filtered_words)"
      ]
    },
    {
      "cell_type": "code",
      "execution_count": 7,
      "metadata": {
        "id": "QnVSKTftoi7V"
      },
      "outputs": [],
      "source": [
        "df_clean['statement_modified']=df_clean['statement'].apply(remove_punctuations)\n",
        "# df_clean['statement_modified']=df_clean['statement_modified'].apply(remove_stopwords)\n",
        "df_clean['statement'] = df_clean['statement_modified']\n",
        "df_clean=df_clean.drop(columns=['statement_modified'])"
      ]
    },
    {
      "cell_type": "code",
      "execution_count": 8,
      "metadata": {
        "colab": {
          "base_uri": "https://localhost:8080/"
        },
        "id": "mz-Yi02Coix_",
        "outputId": "4c0a55f9-15a8-41e8-8797-2f8db00f9153"
      },
      "outputs": [
        {
          "output_type": "stream",
          "name": "stdout",
          "text": [
            "0    did miley cyrus and liam hemsworth secretly ge...\n",
            "1    paris jackson   cara delevingne enjoy night ou...\n",
            "2    celebrities join tax march in protest of donal...\n",
            "3    cindy crawford s daughter kaia gerber wears a ...\n",
            "4        full list of 2018 oscar nominations   variety\n",
            "Name: statement, dtype: object\n",
            "0    0\n",
            "1    0\n",
            "2    0\n",
            "3    0\n",
            "4    0\n",
            "Name: label, dtype: int64\n",
            "(0, 'did miley cyrus and liam hemsworth secretly get married ')\n"
          ]
        }
      ],
      "source": [
        "X=df_clean['statement']\n",
        "y=df_clean['label']\n",
        "print(X.head())\n",
        "print(y.head())\n",
        "data=list(zip(y,X))\n",
        "print(data[0])"
      ]
    },
    {
      "cell_type": "code",
      "execution_count": 9,
      "metadata": {
        "id": "ZEzD1D1_oilG"
      },
      "outputs": [],
      "source": [
        "import torch\n",
        "import torch.nn as nn\n",
        "import torch.optim as optim\n",
        "import torch.nn.functional as F\n",
        "import torchtext.transforms as T\n",
        "from torchtext.vocab import build_vocab_from_iterator\n",
        "from torchtext.data.utils import get_tokenizer\n",
        "import torchdata.datapipes as dp\n",
        "from torch.utils.data import Dataset, DataLoader,random_split,TensorDataset\n",
        "\n",
        "import spacy"
      ]
    },
    {
      "cell_type": "code",
      "execution_count": 10,
      "metadata": {
        "id": "lrqtQB2Ep24B"
      },
      "outputs": [],
      "source": [
        "vocab_size=15000\n",
        "eng = spacy.load(\"en_core_web_sm\")\n",
        "def tokenizer(text):\n",
        "    return [token.text for token in eng.tokenizer(text)]\n",
        "def getTokens(data):\n",
        "    for _,text in data:\n",
        "        yield tokenizer(text)\n",
        "source_vocab = build_vocab_from_iterator(\n",
        "    getTokens(data),\n",
        "    min_freq=0,\n",
        "    specials= ['<pad>','<unk>'],\n",
        "    special_first=True\n",
        ")\n",
        "source_vocab.set_default_index(source_vocab[\"<unk>\"])\n",
        "\n",
        "def getTransform(vocab):\n",
        "    text_tranform = T.Sequential(\n",
        "        ## converts the sentences to indices based on given vocabulary\n",
        "        T.VocabTransform(vocab=vocab),\n",
        "        ## Add <sos> at beginning of each sentence. 1 because the index for <sos> in vocabulary is\n",
        "        # 1 as seen in previous section\n",
        "        # T.AddToken(1, begin=True),\n",
        "        # ## Add <eos> at beginning of each sentence. 2 because the index for <eos> in vocabulary is\n",
        "        # # 2 as seen in previous section\n",
        "        # T.AddToken(2, begin=False)\n",
        "    )\n",
        "    return text_tranform\n",
        "\n",
        "text_pipeline=lambda x:getTransform(source_vocab)(tokenizer(x))\n"
      ]
    },
    {
      "cell_type": "code",
      "execution_count": 11,
      "metadata": {
        "colab": {
          "base_uri": "https://localhost:8080/"
        },
        "id": "uO0iZcJAp2wM",
        "outputId": "7336d9f6-a150-48ae-97c4-48c399568731"
      },
      "outputs": [
        {
          "output_type": "stream",
          "name": "stdout",
          "text": [
            "74\n"
          ]
        }
      ],
      "source": [
        "max_len=-1\n",
        "sen=\"\"\n",
        "for _,text in data:\n",
        "    max_len=max(len(text_pipeline(text)),max_len)\n",
        "    sen=text_pipeline(text)\n",
        "print(max_len)"
      ]
    },
    {
      "cell_type": "code",
      "execution_count": 12,
      "metadata": {
        "id": "mogjs1mmp2kx"
      },
      "outputs": [],
      "source": [
        "# device='cuda' if torch.cuda.is_available else 'cpu'\n",
        "device='cpu'\n",
        "class NewsData(Dataset):\n",
        "    def __init__(self,text,label):\n",
        "        self.text=text\n",
        "        self.label=label\n",
        "    def __len__(self):\n",
        "        return len(self.label)\n",
        "\n",
        "    def __getitem__(self,idx):\n",
        "        text=self.text.iloc[idx]\n",
        "        tokenized_text=text_pipeline(text).copy()\n",
        "        for _ in range(max_len-len(tokenized_text)):\n",
        "            tokenized_text.append(0)\n",
        "        tokenized_text=torch.tensor(tokenized_text)\n",
        "        label=torch.tensor(self.label.iloc[idx])\n",
        "        return tokenized_text.to(device),label.to(device)"
      ]
    },
    {
      "cell_type": "code",
      "execution_count": 13,
      "metadata": {
        "id": "FHnd6l60qT0I"
      },
      "outputs": [],
      "source": [
        "dataset=NewsData(X,y)\n",
        "train_size = int(0.8 * len(dataset))\n",
        "val_size = int(0.1 * len(dataset))\n",
        "test_size = len(dataset) - train_size - val_size\n",
        "\n",
        "train, val, test = random_split(dataset, [train_size, val_size, test_size])\n",
        "train_dataloader = DataLoader(train, batch_size=50)\n",
        "val_dataloader = DataLoader(val, batch_size=50)\n",
        "test_dataloader = DataLoader(test, batch_size=50)"
      ]
    },
    {
      "cell_type": "code",
      "execution_count": 14,
      "metadata": {
        "colab": {
          "base_uri": "https://localhost:8080/"
        },
        "id": "_h8UzCTCqTnZ",
        "outputId": "48346382-a1b6-4014-fcb6-4ce3e6ac127b"
      },
      "outputs": [
        {
          "output_type": "stream",
          "name": "stdout",
          "text": [
            "2900\n"
          ]
        }
      ],
      "source": [
        "print(test_dataloader.__len__()*50)\n",
        "index_to_string=source_vocab.get_itos()"
      ]
    },
    {
      "cell_type": "code",
      "execution_count": 15,
      "metadata": {
        "colab": {
          "base_uri": "https://localhost:8080/"
        },
        "id": "NnQesu6SqpZx",
        "outputId": "52d8af22-07d6-49f2-e5bf-da6eb6dfb605"
      },
      "outputs": [
        {
          "output_type": "stream",
          "name": "stdout",
          "text": [
            "margot robbie shares her one regret for taking on the role of harley quinn <pad> <pad> <pad> <pad> <pad> <pad> <pad> <pad> <pad> <pad> <pad> <pad> <pad> <pad> <pad> <pad> <pad> <pad> <pad> <pad> <pad> <pad> <pad> <pad> <pad> <pad> <pad> <pad> <pad> <pad> <pad> <pad> <pad> <pad> <pad> <pad> <pad> <pad> <pad> <pad> <pad> <pad> <pad> <pad> <pad> <pad> <pad> <pad> <pad> <pad> <pad> <pad> <pad> <pad> <pad> <pad> <pad> <pad> <pad> <pad> tensor([0, 1, 1, 0, 0, 1, 1, 1, 0, 1, 1, 0, 0, 0, 1, 1, 0, 0, 0, 1, 1, 0, 1, 1,\n",
            "        1, 0, 1, 1, 1, 1, 1, 1, 1, 1, 1, 1, 0, 0, 0, 0, 1, 0, 1, 1, 1, 1, 1, 1,\n",
            "        1, 1])\n"
          ]
        }
      ],
      "source": [
        "for data in val_dataloader:\n",
        "    text,label=data\n",
        "    sen=text[15]\n",
        "    for i in sen:\n",
        "        print(index_to_string[i],end=\" \")\n",
        "    print(label)\n",
        "    break"
      ]
    },
    {
      "cell_type": "code",
      "execution_count": 16,
      "metadata": {
        "colab": {
          "base_uri": "https://localhost:8080/"
        },
        "id": "a-XC9F-uqpMd",
        "outputId": "ea8feed2-b8ec-4a28-a54a-689b9f2b0f45"
      },
      "outputs": [
        {
          "output_type": "stream",
          "name": "stdout",
          "text": [
            "torch.Size([50, 74])\n",
            "torch.Size([50])\n"
          ]
        }
      ],
      "source": [
        "for data in train_dataloader:\n",
        "    text,label=data\n",
        "    print(text.shape)\n",
        "    print(label.shape)\n",
        "    break"
      ]
    },
    {
      "cell_type": "code",
      "execution_count": 16,
      "metadata": {
        "id": "4JSs-2C6qv_7"
      },
      "outputs": [],
      "source": []
    },
    {
      "cell_type": "markdown",
      "metadata": {
        "id": "rv8P2USwrhi9"
      },
      "source": [
        "# RESNET Model"
      ]
    },
    {
      "cell_type": "code",
      "execution_count": 24,
      "metadata": {
        "id": "FcH_DsdzMObX"
      },
      "outputs": [],
      "source": [
        "import torch\n",
        "import torch.nn as nn\n",
        "import torch.nn.functional as F\n",
        "\n",
        "class ResidualBlock(nn.Module):\n",
        "    def __init__(self, input_dim, hidden_dim, output_dim, kernel_size=3):\n",
        "        super(ResidualBlock, self).__init__()\n",
        "        padding = kernel_size // 2\n",
        "        self.conv1 = nn.Conv1d(input_dim, out_channels=hidden_dim, kernel_size=kernel_size, padding=padding)\n",
        "        self.bn1 = nn.BatchNorm1d(hidden_dim)\n",
        "        self.conv2 = nn.Conv1d(hidden_dim, out_channels=output_dim, kernel_size=kernel_size, padding=padding)\n",
        "        self.bn2 = nn.BatchNorm1d(output_dim)\n",
        "        self.relu = nn.ReLU()\n",
        "\n",
        "        self.shortcut = nn.Sequential()\n",
        "        if input_dim != output_dim:\n",
        "            self.shortcut = nn.Sequential(\n",
        "                nn.Conv1d(input_dim, output_dim, kernel_size=1),\n",
        "                nn.BatchNorm1d(output_dim)\n",
        "            )\n",
        "\n",
        "    def forward(self, x):\n",
        "        residual = self.shortcut(x)\n",
        "        out = self.conv1(x)\n",
        "        out = self.bn1(out)\n",
        "        out = self.relu(out)\n",
        "        out = self.conv2(out)\n",
        "        out = self.bn2(out)\n",
        "        out += residual\n",
        "        out = self.relu(out)\n",
        "        return out\n",
        "\n",
        "class Resnet2(nn.Module):\n",
        "    def __init__(self, vocab_size, embedding_size, hidden_dims, num_classes):\n",
        "        super(Resnet2, self).__init__()\n",
        "        self.embd1 = nn.Embedding(vocab_size, embedding_size)\n",
        "        self.conv1 = nn.Conv1d(embedding_size, hidden_dims[0], kernel_size=3, padding=1)\n",
        "\n",
        "        self.rb1 = ResidualBlock(hidden_dims[0], hidden_dims[1], hidden_dims[1])\n",
        "        self.rb2 = ResidualBlock(hidden_dims[1], hidden_dims[2], hidden_dims[2])\n",
        "        self.rb3 = ResidualBlock(hidden_dims[2], hidden_dims[3], hidden_dims[3])\n",
        "\n",
        "        self.avgpool = nn.AdaptiveAvgPool1d(1)\n",
        "        self.fc = nn.Linear(hidden_dims[3], num_classes)\n",
        "\n",
        "    def forward(self, x):\n",
        "        x = x.to(torch.int)\n",
        "        x = self.embd1(x)\n",
        "        x = x.permute(0, 2, 1)\n",
        "        # print(x.shape)\n",
        "        x = F.relu(self.conv1(x))\n",
        "        # print(x.shape)\n",
        "        x = self.rb1(x)\n",
        "        # print(x.shape)\n",
        "        x = self.rb2(x)\n",
        "        # print(x.shape)\n",
        "        x = self.rb3(x)\n",
        "        # print(x.shape)\n",
        "\n",
        "        x = self.avgpool(x)\n",
        "        # print(x.shape)\n",
        "        x = x.squeeze(2)\n",
        "        x = self.fc(x)\n",
        "        # print(x.shape)\n",
        "\n",
        "        return x"
      ]
    },
    {
      "cell_type": "code",
      "execution_count": null,
      "metadata": {
        "id": "_TLcELdfrm5w"
      },
      "outputs": [],
      "source": [
        "vocab_size = 100000\n",
        "embedding_dim = 74\n",
        "hidden_dim = 37\n",
        "num_classes = 1\n",
        "model = Resnet1(vocab_size, embedding_dim, hidden_dim, num_classes)"
      ]
    },
    {
      "cell_type": "code",
      "execution_count": 25,
      "metadata": {
        "id": "4c6xQXEOMQLW"
      },
      "outputs": [],
      "source": [
        "vocab_size = 100000\n",
        "embedding_dim = 74\n",
        "hidden_dims = [128, 256, 512, 1024]\n",
        "num_classes = 1\n",
        "model = Resnet2(vocab_size, embedding_dim, hidden_dims, num_classes)"
      ]
    },
    {
      "cell_type": "code",
      "execution_count": 26,
      "metadata": {
        "colab": {
          "base_uri": "https://localhost:8080/"
        },
        "id": "3L9oFRoZM3W-",
        "outputId": "1ba8a48f-10ff-40ba-e5e9-6f3ac03533ad"
      },
      "outputs": [
        {
          "output_type": "stream",
          "name": "stdout",
          "text": [
            "----------------------------------------------------------------\n",
            "        Layer (type)               Output Shape         Param #\n",
            "================================================================\n",
            "         Embedding-1               [-1, 50, 74]       7,400,000\n",
            "            Conv1d-2              [-1, 128, 50]          28,544\n",
            "            Conv1d-3              [-1, 256, 50]          33,024\n",
            "       BatchNorm1d-4              [-1, 256, 50]             512\n",
            "            Conv1d-5              [-1, 256, 50]          98,560\n",
            "       BatchNorm1d-6              [-1, 256, 50]             512\n",
            "              ReLU-7              [-1, 256, 50]               0\n",
            "            Conv1d-8              [-1, 256, 50]         196,864\n",
            "       BatchNorm1d-9              [-1, 256, 50]             512\n",
            "             ReLU-10              [-1, 256, 50]               0\n",
            "    ResidualBlock-11              [-1, 256, 50]               0\n",
            "           Conv1d-12              [-1, 512, 50]         131,584\n",
            "      BatchNorm1d-13              [-1, 512, 50]           1,024\n",
            "           Conv1d-14              [-1, 512, 50]         393,728\n",
            "      BatchNorm1d-15              [-1, 512, 50]           1,024\n",
            "             ReLU-16              [-1, 512, 50]               0\n",
            "           Conv1d-17              [-1, 512, 50]         786,944\n",
            "      BatchNorm1d-18              [-1, 512, 50]           1,024\n",
            "             ReLU-19              [-1, 512, 50]               0\n",
            "    ResidualBlock-20              [-1, 512, 50]               0\n",
            "           Conv1d-21             [-1, 1024, 50]         525,312\n",
            "      BatchNorm1d-22             [-1, 1024, 50]           2,048\n",
            "           Conv1d-23             [-1, 1024, 50]       1,573,888\n",
            "      BatchNorm1d-24             [-1, 1024, 50]           2,048\n",
            "             ReLU-25             [-1, 1024, 50]               0\n",
            "           Conv1d-26             [-1, 1024, 50]       3,146,752\n",
            "      BatchNorm1d-27             [-1, 1024, 50]           2,048\n",
            "             ReLU-28             [-1, 1024, 50]               0\n",
            "    ResidualBlock-29             [-1, 1024, 50]               0\n",
            "AdaptiveAvgPool1d-30              [-1, 1024, 1]               0\n",
            "           Linear-31                    [-1, 1]           1,025\n",
            "================================================================\n",
            "Total params: 14,326,977\n",
            "Trainable params: 14,326,977\n",
            "Non-trainable params: 0\n",
            "----------------------------------------------------------------\n",
            "Input size (MB): 0.00\n",
            "Forward/backward pass size (MB): 6.24\n",
            "Params size (MB): 54.65\n",
            "Estimated Total Size (MB): 60.89\n",
            "----------------------------------------------------------------\n"
          ]
        }
      ],
      "source": [
        "from torchsummary import summary\n",
        "summary(model.cuda(),(50,))"
      ]
    },
    {
      "cell_type": "code",
      "execution_count": 27,
      "metadata": {
        "colab": {
          "base_uri": "https://localhost:8080/"
        },
        "id": "OoIo5wGAL8qK",
        "outputId": "fcd058eb-155b-4837-b0a0-bf4436bb224f"
      },
      "outputs": [
        {
          "output_type": "stream",
          "name": "stdout",
          "text": [
            "Total number of parameters: 14326977\n"
          ]
        }
      ],
      "source": [
        "total_params = sum(p.numel() for p in model.parameters())\n",
        "print(f\"Total number of parameters: {total_params}\")"
      ]
    },
    {
      "cell_type": "code",
      "execution_count": 28,
      "metadata": {
        "colab": {
          "base_uri": "https://localhost:8080/"
        },
        "id": "sM3HlLIOrqOG",
        "outputId": "8fe22997-9e17-42ff-f11c-b72175dcb372"
      },
      "outputs": [
        {
          "output_type": "stream",
          "name": "stdout",
          "text": [
            "462\n",
            "0\n",
            "tensor(0.6853, device='cuda:0', grad_fn=<BinaryCrossEntropyBackward0>)\n",
            "[1,    50] accuracy: 0.631, loss: 0.013\n",
            "[1,   100] accuracy: 0.647, loss: 0.013\n",
            "100\n",
            "tensor(0.6317, device='cuda:0', grad_fn=<BinaryCrossEntropyBackward0>)\n",
            "[1,   150] accuracy: 0.653, loss: 0.013\n",
            "[1,   200] accuracy: 0.660, loss: 0.013\n",
            "200\n",
            "tensor(0.6319, device='cuda:0', grad_fn=<BinaryCrossEntropyBackward0>)\n",
            "[1,   250] accuracy: 0.662, loss: 0.013\n",
            "[1,   300] accuracy: 0.667, loss: 0.013\n",
            "300\n",
            "tensor(0.6207, device='cuda:0', grad_fn=<BinaryCrossEntropyBackward0>)\n",
            "[1,   350] accuracy: 0.669, loss: 0.012\n",
            "[1,   400] accuracy: 0.674, loss: 0.012\n",
            "400\n",
            "tensor(0.5826, device='cuda:0', grad_fn=<BinaryCrossEntropyBackward0>)\n",
            "[1,   450] accuracy: 0.675, loss: 0.012\n",
            "Epoch 1 completed. Training Loss: 0.012, Training Accuracy: 67.530\n",
            "Epoch 1 completed. Validation Loss: 0.011, Validation Accuracy: 71.275\n",
            "462\n",
            "0\n",
            "tensor(0.6533, device='cuda:0', grad_fn=<BinaryCrossEntropyBackward0>)\n",
            "[2,    50] accuracy: 0.700, loss: 0.012\n",
            "[2,   100] accuracy: 0.710, loss: 0.011\n",
            "100\n",
            "tensor(0.5872, device='cuda:0', grad_fn=<BinaryCrossEntropyBackward0>)\n",
            "[2,   150] accuracy: 0.714, loss: 0.011\n",
            "[2,   200] accuracy: 0.724, loss: 0.011\n",
            "200\n",
            "tensor(0.5899, device='cuda:0', grad_fn=<BinaryCrossEntropyBackward0>)\n",
            "[2,   250] accuracy: 0.728, loss: 0.011\n",
            "[2,   300] accuracy: 0.733, loss: 0.011\n",
            "300\n",
            "tensor(0.5022, device='cuda:0', grad_fn=<BinaryCrossEntropyBackward0>)\n",
            "[2,   350] accuracy: 0.735, loss: 0.011\n",
            "[2,   400] accuracy: 0.739, loss: 0.011\n",
            "400\n",
            "tensor(0.4785, device='cuda:0', grad_fn=<BinaryCrossEntropyBackward0>)\n",
            "[2,   450] accuracy: 0.741, loss: 0.011\n",
            "Epoch 2 completed. Training Loss: 0.011, Training Accuracy: 74.238\n",
            "Epoch 2 completed. Validation Loss: 0.010, Validation Accuracy: 77.512\n",
            "462\n",
            "0\n",
            "tensor(0.6506, device='cuda:0', grad_fn=<BinaryCrossEntropyBackward0>)\n",
            "[3,    50] accuracy: 0.767, loss: 0.010\n",
            "[3,   100] accuracy: 0.775, loss: 0.010\n",
            "100\n",
            "tensor(0.5485, device='cuda:0', grad_fn=<BinaryCrossEntropyBackward0>)\n",
            "[3,   150] accuracy: 0.775, loss: 0.009\n",
            "[3,   200] accuracy: 0.784, loss: 0.009\n",
            "200\n",
            "tensor(0.5290, device='cuda:0', grad_fn=<BinaryCrossEntropyBackward0>)\n",
            "[3,   250] accuracy: 0.790, loss: 0.009\n",
            "[3,   300] accuracy: 0.794, loss: 0.009\n",
            "300\n",
            "tensor(0.4289, device='cuda:0', grad_fn=<BinaryCrossEntropyBackward0>)\n",
            "[3,   350] accuracy: 0.796, loss: 0.009\n",
            "[3,   400] accuracy: 0.799, loss: 0.009\n",
            "400\n",
            "tensor(0.3759, device='cuda:0', grad_fn=<BinaryCrossEntropyBackward0>)\n",
            "[3,   450] accuracy: 0.800, loss: 0.009\n",
            "Epoch 3 completed. Training Loss: 0.009, Training Accuracy: 80.067\n",
            "Epoch 3 completed. Validation Loss: 0.010, Validation Accuracy: 77.928\n",
            "462\n",
            "0\n",
            "tensor(0.5800, device='cuda:0', grad_fn=<BinaryCrossEntropyBackward0>)\n",
            "[4,    50] accuracy: 0.824, loss: 0.008\n",
            "[4,   100] accuracy: 0.829, loss: 0.008\n",
            "100\n",
            "tensor(0.5167, device='cuda:0', grad_fn=<BinaryCrossEntropyBackward0>)\n",
            "[4,   150] accuracy: 0.830, loss: 0.008\n",
            "[4,   200] accuracy: 0.835, loss: 0.008\n",
            "200\n",
            "tensor(0.4518, device='cuda:0', grad_fn=<BinaryCrossEntropyBackward0>)\n",
            "[4,   250] accuracy: 0.839, loss: 0.007\n",
            "[4,   300] accuracy: 0.842, loss: 0.007\n",
            "300\n",
            "tensor(0.3337, device='cuda:0', grad_fn=<BinaryCrossEntropyBackward0>)\n",
            "[4,   350] accuracy: 0.844, loss: 0.007\n",
            "[4,   400] accuracy: 0.847, loss: 0.007\n",
            "400\n",
            "tensor(0.3053, device='cuda:0', grad_fn=<BinaryCrossEntropyBackward0>)\n",
            "[4,   450] accuracy: 0.849, loss: 0.007\n",
            "Epoch 4 completed. Training Loss: 0.007, Training Accuracy: 84.917\n",
            "Epoch 4 completed. Validation Loss: 0.010, Validation Accuracy: 77.339\n",
            "462\n",
            "0\n",
            "tensor(0.4803, device='cuda:0', grad_fn=<BinaryCrossEntropyBackward0>)\n",
            "[5,    50] accuracy: 0.877, loss: 0.006\n",
            "[5,   100] accuracy: 0.875, loss: 0.006\n",
            "100\n",
            "tensor(0.4716, device='cuda:0', grad_fn=<BinaryCrossEntropyBackward0>)\n",
            "[5,   150] accuracy: 0.874, loss: 0.006\n",
            "[5,   200] accuracy: 0.879, loss: 0.006\n",
            "200\n",
            "tensor(0.3870, device='cuda:0', grad_fn=<BinaryCrossEntropyBackward0>)\n",
            "[5,   250] accuracy: 0.882, loss: 0.006\n",
            "[5,   300] accuracy: 0.884, loss: 0.006\n",
            "300\n",
            "tensor(0.2529, device='cuda:0', grad_fn=<BinaryCrossEntropyBackward0>)\n",
            "[5,   350] accuracy: 0.886, loss: 0.006\n",
            "[5,   400] accuracy: 0.890, loss: 0.006\n",
            "400\n",
            "tensor(0.2346, device='cuda:0', grad_fn=<BinaryCrossEntropyBackward0>)\n",
            "[5,   450] accuracy: 0.892, loss: 0.005\n",
            "Epoch 5 completed. Training Loss: 0.005, Training Accuracy: 89.221\n",
            "Epoch 5 completed. Validation Loss: 0.012, Validation Accuracy: 76.507\n"
          ]
        }
      ],
      "source": [
        "import torch.optim as optim\n",
        "from torch.autograd import Variable\n",
        "\n",
        "\n",
        "model = model.cuda()\n",
        "\n",
        "los_values = []\n",
        "acc_values = []\n",
        "\n",
        "val_los_values = []\n",
        "val_acc_values = []\n",
        "\n",
        "criterion = nn.BCELoss()\n",
        "optimizer = optim.SGD(model.parameters(), lr=0.001, momentum=0.9)\n",
        "\n",
        "\n",
        "\n",
        "for epoch in range(5):\n",
        "\n",
        "    running_loss = 0.0\n",
        "    running_corrects = 0.0\n",
        "    count = 0\n",
        "    print(len(train_dataloader))\n",
        "\n",
        "    for i, data in enumerate(train_dataloader, 0):\n",
        "\n",
        "        inputs, labels = data\n",
        "\n",
        "        inputs, labels = Variable(inputs.cuda()), Variable(labels.cuda())\n",
        "        optimizer.zero_grad()\n",
        "        outputs = model(inputs)\n",
        "        outputs = torch.sigmoid(outputs)\n",
        "\n",
        "        # TODO: calculate the preds\n",
        "        preds = (outputs > 0.5).float()\n",
        "        labels = labels.view(-1, 1)\n",
        "        loss = criterion(outputs.float(), labels.float())\n",
        "\n",
        "        if(i%100 == 0):\n",
        "          print(i)\n",
        "          print(loss)\n",
        "        loss.backward()\n",
        "        optimizer.step()\n",
        "\n",
        "\n",
        "\n",
        "        running_loss += loss.item()\n",
        "        running_corrects += torch.sum(preds == labels.data)\n",
        "        count += len(preds)\n",
        "        if i % 50 == 49:\n",
        "            print(f'[{epoch + 1}, {i + 1:5d}] accuracy: {running_corrects / count:.3f}, loss: {running_loss / count:.3f}')\n",
        "\n",
        "    epoch_loss = running_loss / len(train_dataloader.dataset)\n",
        "    epoch_acc = (running_corrects / len(train_dataloader.dataset))*100\n",
        "    print(f'Epoch {epoch + 1} completed. Training Loss: {epoch_loss:.3f}, Training Accuracy: {epoch_acc:.3f}')\n",
        "    los_values.append(epoch_loss)\n",
        "    acc_values.append(epoch_acc)\n",
        "\n",
        "    running_loss = 0.0\n",
        "    running_corrects = 0\n",
        "    count = 0\n",
        "\n",
        "\n",
        "    val_corrects = 0.0\n",
        "    val_loss = 0.0\n",
        "\n",
        "    with torch.no_grad():\n",
        "        for data in val_dataloader:\n",
        "            inputs, labels = data\n",
        "            inputs, labels = Variable(inputs.cuda()), Variable(labels.cuda())\n",
        "\n",
        "\n",
        "            outputs = model(inputs)\n",
        "            outputs = torch.sigmoid(outputs)\n",
        "            preds = (outputs > 0.5).float()\n",
        "            labels = labels.view(-1, 1)\n",
        "            vloss = criterion(outputs.float(), labels.float())\n",
        "\n",
        "            val_loss +=vloss.item()\n",
        "\n",
        "            val_corrects += torch.sum(preds == labels.data)\n",
        "\n",
        "    val_accuracy = (val_corrects / len(val_dataloader.dataset)) * 100\n",
        "    ep_val_loss = val_loss/len(val_dataloader.dataset)\n",
        "\n",
        "    print(f'Epoch {epoch + 1} completed. Validation Loss: {ep_val_loss:.3f}, Validation Accuracy: {val_accuracy:.3f}')\n",
        "    val_los_values.append(ep_val_loss)\n",
        "    val_acc_values.append(val_accuracy)\n"
      ]
    },
    {
      "cell_type": "code",
      "execution_count": 29,
      "metadata": {
        "colab": {
          "base_uri": "https://localhost:8080/"
        },
        "id": "kfHoDgXkrwpl",
        "outputId": "7700af4d-01af-4b23-8819-63d13cbc1cd0"
      },
      "outputs": [
        {
          "output_type": "stream",
          "name": "stdout",
          "text": [
            "Test Accuracy: 76.58%\n"
          ]
        }
      ],
      "source": [
        "# NOTE: if the accuracy on test data after 15 epochs is less than 80% smth goes wrong\n",
        "model.eval()\n",
        "test_corrects = 0\n",
        "test_total = 0\n",
        "\n",
        "y_predl = []\n",
        "y_truel = []\n",
        "\n",
        "with torch.no_grad():\n",
        "    for data in test_dataloader:\n",
        "        inputs, labels = data\n",
        "        inputs, labels = Variable(inputs.cuda()), Variable(labels.cuda())\n",
        "\n",
        "        outputs = model(inputs)\n",
        "        outputs = torch.sigmoid(outputs)\n",
        "        preds = (outputs > 0.5).float()\n",
        "        labels = labels.view(-1, 1)\n",
        "\n",
        "        #print(preds)\n",
        "        #print(labels.data)\n",
        "\n",
        "        test_corrects += torch.sum(preds == labels.data)\n",
        "        test_total += len(preds)\n",
        "\n",
        "        y_predl.append(preds)\n",
        "        y_truel.append(labels.data)\n",
        "\n",
        "\n",
        "test_accuracy = (test_corrects / test_total) * 100\n",
        "print(f'Test Accuracy: {test_accuracy:.2f}%')"
      ]
    },
    {
      "cell_type": "code",
      "execution_count": 30,
      "metadata": {
        "colab": {
          "base_uri": "https://localhost:8080/",
          "height": 376
        },
        "id": "N704NHR4tOma",
        "outputId": "9d73b00f-dc55-484c-9ddf-76349aba6f48"
      },
      "outputs": [
        {
          "output_type": "display_data",
          "data": {
            "text/plain": [
              "<Figure size 1600x600 with 2 Axes>"
            ],
            "image/png": "[encoded data removed]"
          },
          "metadata": {}
        }
      ],
      "source": [
        "import matplotlib.pyplot as plt\n",
        "import numpy as np\n",
        "\n",
        "epochs = range(1, len(los_values) + 1)\n",
        "\n",
        "acc_train= [tensor.item() for tensor in acc_values]\n",
        "acc_val = [tensor.item() for tensor in val_acc_values]\n",
        "\n",
        "fig, axs = plt.subplots(1, 2, figsize=(16, 6))\n",
        "plt.subplots_adjust(left=0.1, right=1.5, bottom=0.1, top=0.9)\n",
        "\n",
        "axs[0].plot(epochs, los_values, 'b', label='Training loss')\n",
        "axs[0].plot(epochs, val_los_values, 'r', label='Validation loss')\n",
        "axs[0].set_title('Training and Validation Loss')\n",
        "axs[0].set_xlabel('Epochs')\n",
        "axs[0].set_ylabel('Loss')\n",
        "axs[0].legend()\n",
        "axs[0].grid(True)\n",
        "\n",
        "\n",
        "axs[1].plot(epochs, acc_train, 'b', label='Training accuracy')\n",
        "axs[1].plot(epochs, acc_val, 'r', label='Validation accuracy')\n",
        "axs[1].set_title('Training and Validation Accuracy')\n",
        "axs[1].set_xlabel('Epochs')\n",
        "axs[1].set_ylabel('Accuracy')\n",
        "axs[1].legend()\n",
        "axs[1].grid(True)\n",
        "\n",
        "plt.show()"
      ]
    },
    {
      "cell_type": "code",
      "execution_count": 31,
      "metadata": {
        "colab": {
          "base_uri": "https://localhost:8080/"
        },
        "id": "bDWZu4-WrbVl",
        "outputId": "f05a50f0-8c14-468e-b7ef-7fdd58029335"
      },
      "outputs": [
        {
          "output_type": "stream",
          "name": "stdout",
          "text": [
            "Precision: 0.7921\n",
            "Recall: 0.8319\n",
            "F1 Score: 0.8115\n",
            "Confusion Matrix:\n",
            "[[ 756  382]\n",
            " [ 294 1455]]\n"
          ]
        }
      ],
      "source": [
        "from sklearn.metrics import precision_score, recall_score, f1_score, confusion_matrix\n",
        "y_pred = torch.cat(y_predl).cpu().numpy().flatten()\n",
        "y_true = torch.cat(y_truel).cpu().numpy().flatten()\n",
        "\n",
        "# Compute precision, recall, and F1 score\n",
        "precision = precision_score(y_true, y_pred)\n",
        "recall = recall_score(y_true, y_pred)\n",
        "f1 = f1_score(y_true, y_pred)\n",
        "\n",
        "# Compute confusion matrix\n",
        "conf_matrix = confusion_matrix(y_true, y_pred)\n",
        "\n",
        "print(f'Precision: {precision:.4f}')\n",
        "print(f'Recall: {recall:.4f}')\n",
        "print(f'F1 Score: {f1:.4f}')\n",
        "print(f'Confusion Matrix:\\n{conf_matrix}')"
      ]
    },
    {
      "cell_type": "code",
      "execution_count": 32,
      "metadata": {
        "colab": {
          "base_uri": "https://localhost:8080/"
        },
        "id": "MXkvPFbHrbQr",
        "outputId": "b9b1ac87-1929-4360-e77e-14a1a5d24b77"
      },
      "outputs": [
        {
          "output_type": "stream",
          "name": "stdout",
          "text": [
            "Class 1 - True Positive Rate: 0.66, False Positive Rate: 0.17\n",
            "Class 1 - Precision: 0.72, Recall: 0.66\n",
            "\n",
            "Class 2 - True Positive Rate: 0.83, False Positive Rate: 0.34\n",
            "Class 2 - Precision: 0.79, Recall: 0.83\n",
            "\n"
          ]
        }
      ],
      "source": [
        "from sklearn.metrics import confusion_matrix\n",
        "con_mat = confusion_matrix(y_true, y_pred)\n",
        "\n",
        "number_of_classes = con_mat.shape[0]\n",
        "\n",
        "for i in range(number_of_classes):\n",
        "\n",
        "    tp = con_mat[i, i]\n",
        "    fn = np.sum(con_mat[i, :]) - tp\n",
        "    fp = np.sum(con_mat[:, i]) - tp\n",
        "    tn = np.sum(con_mat) - (tp + fn + fp)\n",
        "\n",
        "    precision = tp / (tp + fp) if tp + fp != 0 else 0\n",
        "    recall = tp / (tp + fn) if tp + fn != 0 else 0\n",
        "\n",
        "    tpr = tp / (tp + fn) if tp + fn != 0 else 0\n",
        "    fpr = fp / (fp + tn) if fp + tn != 0 else 0\n",
        "\n",
        "    print(f\"Class {i + 1} - True Positive Rate: {tpr:.2f}, False Positive Rate: {fpr:.2f}\")\n",
        "    print(f\"Class {i + 1} - Precision: {precision:.2f}, Recall: {recall:.2f}\")\n",
        "    print()"
      ]
    },
    {
      "cell_type": "code",
      "execution_count": 33,
      "metadata": {
        "colab": {
          "base_uri": "https://localhost:8080/",
          "height": 466
        },
        "id": "gMOrXx4BrbLv",
        "outputId": "3fba2295-e7e9-4640-f182-f74a60d5eb3f"
      },
      "outputs": [
        {
          "output_type": "display_data",
          "data": {
            "text/plain": [
              "<Figure size 640x480 with 2 Axes>"
            ],
            "image/png": "[encoded data removed]"
          },
          "metadata": {}
        },
        {
          "output_type": "display_data",
          "data": {
            "text/plain": [
              "<Figure size 2000x1000 with 0 Axes>"
            ]
          },
          "metadata": {}
        }
      ],
      "source": [
        "import seaborn as sns\n",
        "sns.heatmap(con_mat, annot=True, fmt='d', cmap='cividis', cbar=True)\n",
        "\n",
        "plt.xlabel('Predicted')\n",
        "plt.ylabel('True')\n",
        "plt.figure(figsize=(20,10))\n",
        "plt.show()\n",
        "\n"
      ]
    },
    {
      "cell_type": "code",
      "execution_count": 34,
      "metadata": {
        "colab": {
          "base_uri": "https://localhost:8080/",
          "height": 581
        },
        "id": "OsY3P8qKMkIr",
        "outputId": "e56f3213-9951-4153-f023-4df018d120b6"
      },
      "outputs": [
        {
          "output_type": "stream",
          "name": "stdout",
          "text": [
            "0.7481136597262206\n"
          ]
        },
        {
          "output_type": "display_data",
          "data": {
            "text/plain": [
              "<Figure size 800x600 with 1 Axes>"
            ],
            "image/png": "[encoded data removed]"
          },
          "metadata": {}
        }
      ],
      "source": [
        "from sklearn.metrics import roc_curve, auc\n",
        "fpr, tpr, _ = roc_curve(y_true, y_pred)\n",
        "roc_auc = auc(fpr, tpr)\n",
        "print(roc_auc)\n",
        "\n",
        "# Plot ROC curve\n",
        "plt.figure(figsize=(8, 6))\n",
        "plt.plot(fpr, tpr, color='darkorange', lw=2, label=f'ROC curve (area = {roc_auc:.2f})')\n",
        "plt.plot([0, 1], [0, 1], color='navy', lw=2, linestyle='--')\n",
        "plt.xlim([0.0, 1.0])\n",
        "plt.ylim([0.0, 1.05])\n",
        "plt.xlabel('False Positive Rate')\n",
        "plt.ylabel('True Positive Rate')\n",
        "plt.title('Receiver Operating Characteristic (ROC) Curve')\n",
        "plt.legend(loc='lower right')\n",
        "plt.show()"
      ]
    },
    {
      "cell_type": "code",
      "execution_count": 35,
      "metadata": {
        "colab": {
          "base_uri": "https://localhost:8080/"
        },
        "id": "5ZxDRD3nrtVD",
        "outputId": "2377411e-69ee-4171-c835-76107a163eeb"
      },
      "outputs": [
        {
          "output_type": "stream",
          "name": "stdout",
          "text": [
            "Resnet2(\n",
            "  (embd1): Embedding(100000, 74)\n",
            "  (conv1): Conv1d(74, 128, kernel_size=(3,), stride=(1,), padding=(1,))\n",
            "  (rb1): ResidualBlock(\n",
            "    (conv1): Conv1d(128, 256, kernel_size=(3,), stride=(1,), padding=(1,))\n",
            "    (bn1): BatchNorm1d(256, eps=1e-05, momentum=0.1, affine=True, track_running_stats=True)\n",
            "    (conv2): Conv1d(256, 256, kernel_size=(3,), stride=(1,), padding=(1,))\n",
            "    (bn2): BatchNorm1d(256, eps=1e-05, momentum=0.1, affine=True, track_running_stats=True)\n",
            "    (relu): ReLU()\n",
            "    (shortcut): Sequential(\n",
            "      (0): Conv1d(128, 256, kernel_size=(1,), stride=(1,))\n",
            "      (1): BatchNorm1d(256, eps=1e-05, momentum=0.1, affine=True, track_running_stats=True)\n",
            "    )\n",
            "  )\n",
            "  (rb2): ResidualBlock(\n",
            "    (conv1): Conv1d(256, 512, kernel_size=(3,), stride=(1,), padding=(1,))\n",
            "    (bn1): BatchNorm1d(512, eps=1e-05, momentum=0.1, affine=True, track_running_stats=True)\n",
            "    (conv2): Conv1d(512, 512, kernel_size=(3,), stride=(1,), padding=(1,))\n",
            "    (bn2): BatchNorm1d(512, eps=1e-05, momentum=0.1, affine=True, track_running_stats=True)\n",
            "    (relu): ReLU()\n",
            "    (shortcut): Sequential(\n",
            "      (0): Conv1d(256, 512, kernel_size=(1,), stride=(1,))\n",
            "      (1): BatchNorm1d(512, eps=1e-05, momentum=0.1, affine=True, track_running_stats=True)\n",
            "    )\n",
            "  )\n",
            "  (rb3): ResidualBlock(\n",
            "    (conv1): Conv1d(512, 1024, kernel_size=(3,), stride=(1,), padding=(1,))\n",
            "    (bn1): BatchNorm1d(1024, eps=1e-05, momentum=0.1, affine=True, track_running_stats=True)\n",
            "    (conv2): Conv1d(1024, 1024, kernel_size=(3,), stride=(1,), padding=(1,))\n",
            "    (bn2): BatchNorm1d(1024, eps=1e-05, momentum=0.1, affine=True, track_running_stats=True)\n",
            "    (relu): ReLU()\n",
            "    (shortcut): Sequential(\n",
            "      (0): Conv1d(512, 1024, kernel_size=(1,), stride=(1,))\n",
            "      (1): BatchNorm1d(1024, eps=1e-05, momentum=0.1, affine=True, track_running_stats=True)\n",
            "    )\n",
            "  )\n",
            "  (avgpool): AdaptiveAvgPool1d(output_size=1)\n",
            "  (fc): Linear(in_features=1024, out_features=1, bias=True)\n",
            ")\n"
          ]
        }
      ],
      "source": [
        "print(model)"
      ]
    },
    {
      "cell_type": "code",
      "execution_count": null,
      "metadata": {
        "id": "u6w7-9DhrbDn"
      },
      "outputs": [],
      "source": [
        "import pickle\n",
        "with open('/content/drive/MyDrive/DL_Proj-main/DL_Proj-changes/resnet.pkl', 'wb') as f:\n",
        "    pickle.dump(model, f)"
      ]
    },
    {
      "cell_type": "code",
      "execution_count": null,
      "metadata": {
        "id": "io5oZRRlrawJ"
      },
      "outputs": [],
      "source": [
        "import pickle\n",
        "with open('/content/drive/MyDrive/DL_Proj-main/DL_Proj-changes/resnet.pkl', 'rb') as f:\n",
        "    loaded_model = pickle.load(f)"
      ]
    },
    {
      "cell_type": "markdown",
      "metadata": {
        "id": "M98sBezmq0I0"
      },
      "source": [
        "# Transformer model"
      ]
    },
    {
      "cell_type": "code",
      "execution_count": null,
      "metadata": {
        "id": "GAc9uwsZq75F"
      },
      "outputs": [],
      "source": [
        "import torch.nn as nn\n",
        "import torch\n",
        "import numpy as np\n",
        "import torch.optim as optim\n",
        "from torch.autograd import Variable\n",
        "\n",
        "def getPositionEncoding(s_len, d_model, n=10000):\n",
        "    P = np.zeros((s_len, d_model))\n",
        "    for k in range(s_len):\n",
        "        for i in np.arange(int(d_model/2)):\n",
        "            denominator = np.power(n, 2*i/d_model)\n",
        "            P[k, 2*i] = np.sin(k/denominator)\n",
        "            P[k, 2*i+1] = np.cos(k/denominator)\n",
        "    return torch.from_numpy(P).float()\n",
        "\n",
        "class TransformHelp(nn.Module):\n",
        "    def __init__(self, vocab_size, embedding_size, d_model, nhead, hidden_size, num_layers, dropout):\n",
        "        super(TransformHelp, self).__init__()\n",
        "        self.embd = nn.Embedding(vocab_size, embedding_size)\n",
        "        self.pos_enc = nn.Parameter(getPositionEncoding(embedding_size, d_model=d_model))\n",
        "        self.tra_enc_layer = nn.TransformerEncoderLayer(d_model, nhead, hidden_size, dropout)\n",
        "        self.trans_enc = nn.TransformerEncoder(self.tra_enc_layer, num_layers)\n",
        "\n",
        "        self.fc = nn.Linear(d_model, 1)\n",
        "\n",
        "    def forward(self, x):\n",
        "        x = self.embd(x) * np.sqrt(self.pos_enc.shape[1])\n",
        "        #print(self.pos_enc.shape)\n",
        "        x = x + self.pos_enc\n",
        "        #print(x.shape)\n",
        "        x = self.trans_enc(x)\n",
        "        x = torch.mean(x, dim=1)\n",
        "        x = self.fc(x)\n",
        "        return torch.sigmoid(x)"
      ]
    },
    {
      "cell_type": "code",
      "execution_count": null,
      "metadata": {
        "colab": {
          "base_uri": "https://localhost:8080/"
        },
        "id": "He322DfDrDu7",
        "outputId": "54262bd6-3a71-48c6-d4e3-176cdb39ee1d"
      },
      "outputs": [
        {
          "name": "stderr",
          "output_type": "stream",
          "text": [
            "/usr/local/lib/python3.10/dist-packages/torch/nn/modules/transformer.py:286: UserWarning: enable_nested_tensor is True, but self.use_nested_tensor is False because encoder_layer.self_attn.batch_first was not True(use batch_first for better inference performance)\n",
            "  warnings.warn(f\"enable_nested_tensor is True, but self.use_nested_tensor is False because {why_not_sparsity_fast_path}\")\n"
          ]
        }
      ],
      "source": [
        "vocab_size = 100000\n",
        "embedding_size = 74\n",
        "d_model = 74\n",
        "nhead = 2\n",
        "hidden_size = 256\n",
        "num_layers = 6\n",
        "dropout = 0.1\n",
        "\n",
        "\n",
        "model1 = TransformHelp(vocab_size, embedding_size, d_model, nhead, hidden_size, num_layers, dropout)"
      ]
    },
    {
      "cell_type": "code",
      "execution_count": null,
      "metadata": {
        "colab": {
          "base_uri": "https://localhost:8080/"
        },
        "id": "eWuDK0eKfRUm",
        "outputId": "96b57010-d192-4bc1-e279-450be8e2c03d"
      },
      "outputs": [
        {
          "name": "stdout",
          "output_type": "stream",
          "text": [
            "torch.Size([50, 1])\n"
          ]
        }
      ],
      "source": [
        "input_tensor = torch.randint(0, 100000, (50, 74))  # Shape: [50, 74]\n",
        "\n",
        "# Forward pass to get the shapes\n",
        "output = model1(input_tensor)\n",
        "print(output.shape)"
      ]
    },
    {
      "cell_type": "code",
      "execution_count": null,
      "metadata": {
        "colab": {
          "base_uri": "https://localhost:8080/"
        },
        "id": "eLSPqeOPrE_9",
        "outputId": "5114e3e1-5a4a-4e4c-817d-184030d9ab08"
      },
      "outputs": [
        {
          "name": "stdout",
          "output_type": "stream",
          "text": [
            "462\n",
            "0\n",
            "tensor(0.6805, device='cuda:0', grad_fn=<BinaryCrossEntropyBackward0>)\n",
            "[1,    50] accuracy: 0.622, loss: 0.013\n",
            "[1,   100] accuracy: 0.617, loss: 0.013\n",
            "100\n",
            "tensor(0.6452, device='cuda:0', grad_fn=<BinaryCrossEntropyBackward0>)\n",
            "[1,   150] accuracy: 0.621, loss: 0.013\n",
            "[1,   200] accuracy: 0.627, loss: 0.013\n",
            "200\n",
            "tensor(0.7259, device='cuda:0', grad_fn=<BinaryCrossEntropyBackward0>)\n",
            "[1,   250] accuracy: 0.631, loss: 0.013\n",
            "[1,   300] accuracy: 0.634, loss: 0.013\n",
            "300\n",
            "tensor(0.5587, device='cuda:0', grad_fn=<BinaryCrossEntropyBackward0>)\n",
            "[1,   350] accuracy: 0.636, loss: 0.013\n",
            "[1,   400] accuracy: 0.633, loss: 0.013\n",
            "400\n",
            "tensor(0.6766, device='cuda:0', grad_fn=<BinaryCrossEntropyBackward0>)\n",
            "[1,   450] accuracy: 0.634, loss: 0.013\n",
            "Epoch 1 completed. Training Loss: 0.013, Training Accuracy: 63.472\n",
            "Epoch 1 completed. Validation Loss: 0.013, Validation Accuracy: 65.038\n",
            "462\n",
            "0\n",
            "tensor(0.6612, device='cuda:0', grad_fn=<BinaryCrossEntropyBackward0>)\n",
            "[2,    50] accuracy: 0.666, loss: 0.013\n",
            "[2,   100] accuracy: 0.659, loss: 0.013\n",
            "100\n",
            "tensor(0.5992, device='cuda:0', grad_fn=<BinaryCrossEntropyBackward0>)\n",
            "[2,   150] accuracy: 0.658, loss: 0.013\n",
            "[2,   200] accuracy: 0.657, loss: 0.013\n",
            "200\n",
            "tensor(0.7367, device='cuda:0', grad_fn=<BinaryCrossEntropyBackward0>)\n",
            "[2,   250] accuracy: 0.657, loss: 0.013\n",
            "[2,   300] accuracy: 0.659, loss: 0.013\n",
            "300\n",
            "tensor(0.5284, device='cuda:0', grad_fn=<BinaryCrossEntropyBackward0>)\n",
            "[2,   350] accuracy: 0.659, loss: 0.013\n",
            "[2,   400] accuracy: 0.657, loss: 0.013\n",
            "400\n",
            "tensor(0.6685, device='cuda:0', grad_fn=<BinaryCrossEntropyBackward0>)\n",
            "[2,   450] accuracy: 0.657, loss: 0.013\n",
            "Epoch 2 completed. Training Loss: 0.013, Training Accuracy: 65.724\n",
            "Epoch 2 completed. Validation Loss: 0.013, Validation Accuracy: 65.766\n",
            "462\n",
            "0\n",
            "tensor(0.6569, device='cuda:0', grad_fn=<BinaryCrossEntropyBackward0>)\n",
            "[3,    50] accuracy: 0.676, loss: 0.012\n",
            "[3,   100] accuracy: 0.671, loss: 0.012\n",
            "100\n",
            "tensor(0.5841, device='cuda:0', grad_fn=<BinaryCrossEntropyBackward0>)\n",
            "[3,   150] accuracy: 0.670, loss: 0.012\n",
            "[3,   200] accuracy: 0.671, loss: 0.012\n",
            "200\n",
            "tensor(0.7260, device='cuda:0', grad_fn=<BinaryCrossEntropyBackward0>)\n",
            "[3,   250] accuracy: 0.672, loss: 0.012\n",
            "[3,   300] accuracy: 0.675, loss: 0.012\n",
            "300\n",
            "tensor(0.4814, device='cuda:0', grad_fn=<BinaryCrossEntropyBackward0>)\n",
            "[3,   350] accuracy: 0.675, loss: 0.012\n",
            "[3,   400] accuracy: 0.675, loss: 0.012\n",
            "400\n",
            "tensor(0.6438, device='cuda:0', grad_fn=<BinaryCrossEntropyBackward0>)\n",
            "[3,   450] accuracy: 0.676, loss: 0.012\n",
            "Epoch 3 completed. Training Loss: 0.012, Training Accuracy: 67.638\n",
            "Epoch 3 completed. Validation Loss: 0.012, Validation Accuracy: 68.642\n",
            "462\n",
            "0\n",
            "tensor(0.6143, device='cuda:0', grad_fn=<BinaryCrossEntropyBackward0>)\n",
            "[4,    50] accuracy: 0.702, loss: 0.012\n",
            "[4,   100] accuracy: 0.697, loss: 0.012\n",
            "100\n",
            "tensor(0.5818, device='cuda:0', grad_fn=<BinaryCrossEntropyBackward0>)\n",
            "[4,   150] accuracy: 0.695, loss: 0.012\n",
            "[4,   200] accuracy: 0.695, loss: 0.012\n",
            "200\n",
            "tensor(0.6744, device='cuda:0', grad_fn=<BinaryCrossEntropyBackward0>)\n",
            "[4,   250] accuracy: 0.697, loss: 0.012\n",
            "[4,   300] accuracy: 0.700, loss: 0.012\n",
            "300\n",
            "tensor(0.4198, device='cuda:0', grad_fn=<BinaryCrossEntropyBackward0>)\n",
            "[4,   350] accuracy: 0.699, loss: 0.012\n",
            "[4,   400] accuracy: 0.699, loss: 0.012\n",
            "400\n",
            "tensor(0.5828, device='cuda:0', grad_fn=<BinaryCrossEntropyBackward0>)\n",
            "[4,   450] accuracy: 0.700, loss: 0.012\n",
            "Epoch 4 completed. Training Loss: 0.012, Training Accuracy: 70.111\n",
            "Epoch 4 completed. Validation Loss: 0.012, Validation Accuracy: 69.681\n",
            "462\n",
            "0\n",
            "tensor(0.5726, device='cuda:0', grad_fn=<BinaryCrossEntropyBackward0>)\n",
            "[5,    50] accuracy: 0.722, loss: 0.011\n",
            "[5,   100] accuracy: 0.713, loss: 0.011\n",
            "100\n",
            "tensor(0.5742, device='cuda:0', grad_fn=<BinaryCrossEntropyBackward0>)\n",
            "[5,   150] accuracy: 0.710, loss: 0.011\n",
            "[5,   200] accuracy: 0.713, loss: 0.011\n",
            "200\n",
            "tensor(0.6607, device='cuda:0', grad_fn=<BinaryCrossEntropyBackward0>)\n",
            "[5,   250] accuracy: 0.715, loss: 0.011\n",
            "[5,   300] accuracy: 0.717, loss: 0.011\n",
            "300\n",
            "tensor(0.3838, device='cuda:0', grad_fn=<BinaryCrossEntropyBackward0>)\n",
            "[5,   350] accuracy: 0.716, loss: 0.011\n",
            "[5,   400] accuracy: 0.715, loss: 0.011\n",
            "400\n",
            "tensor(0.5561, device='cuda:0', grad_fn=<BinaryCrossEntropyBackward0>)\n",
            "[5,   450] accuracy: 0.715, loss: 0.011\n",
            "Epoch 5 completed. Training Loss: 0.011, Training Accuracy: 71.627\n",
            "Epoch 5 completed. Validation Loss: 0.011, Validation Accuracy: 71.899\n",
            "462\n",
            "0\n",
            "tensor(0.5292, device='cuda:0', grad_fn=<BinaryCrossEntropyBackward0>)\n",
            "[6,    50] accuracy: 0.743, loss: 0.011\n",
            "[6,   100] accuracy: 0.736, loss: 0.011\n",
            "100\n",
            "tensor(0.5412, device='cuda:0', grad_fn=<BinaryCrossEntropyBackward0>)\n",
            "[6,   150] accuracy: 0.736, loss: 0.011\n",
            "[6,   200] accuracy: 0.738, loss: 0.011\n",
            "200\n",
            "tensor(0.6187, device='cuda:0', grad_fn=<BinaryCrossEntropyBackward0>)\n",
            "[6,   250] accuracy: 0.739, loss: 0.011\n",
            "[6,   300] accuracy: 0.741, loss: 0.011\n",
            "300\n",
            "tensor(0.4051, device='cuda:0', grad_fn=<BinaryCrossEntropyBackward0>)\n",
            "[6,   350] accuracy: 0.740, loss: 0.011\n",
            "[6,   400] accuracy: 0.738, loss: 0.011\n",
            "400\n",
            "tensor(0.5530, device='cuda:0', grad_fn=<BinaryCrossEntropyBackward0>)\n",
            "[6,   450] accuracy: 0.737, loss: 0.011\n",
            "Epoch 6 completed. Training Loss: 0.011, Training Accuracy: 73.727\n",
            "Epoch 6 completed. Validation Loss: 0.011, Validation Accuracy: 74.636\n",
            "462\n",
            "0\n",
            "tensor(0.5580, device='cuda:0', grad_fn=<BinaryCrossEntropyBackward0>)\n",
            "[7,    50] accuracy: 0.763, loss: 0.010\n",
            "[7,   100] accuracy: 0.756, loss: 0.010\n",
            "100\n",
            "tensor(0.4748, device='cuda:0', grad_fn=<BinaryCrossEntropyBackward0>)\n",
            "[7,   150] accuracy: 0.751, loss: 0.010\n",
            "[7,   200] accuracy: 0.756, loss: 0.010\n",
            "200\n",
            "tensor(0.5823, device='cuda:0', grad_fn=<BinaryCrossEntropyBackward0>)\n",
            "[7,   250] accuracy: 0.757, loss: 0.010\n",
            "[7,   300] accuracy: 0.760, loss: 0.010\n",
            "300\n",
            "tensor(0.4091, device='cuda:0', grad_fn=<BinaryCrossEntropyBackward0>)\n",
            "[7,   350] accuracy: 0.759, loss: 0.010\n",
            "[7,   400] accuracy: 0.757, loss: 0.010\n",
            "400\n",
            "tensor(0.5408, device='cuda:0', grad_fn=<BinaryCrossEntropyBackward0>)\n",
            "[7,   450] accuracy: 0.756, loss: 0.010\n",
            "Epoch 7 completed. Training Loss: 0.010, Training Accuracy: 75.689\n",
            "Epoch 7 completed. Validation Loss: 0.010, Validation Accuracy: 77.027\n",
            "462\n",
            "0\n",
            "tensor(0.5499, device='cuda:0', grad_fn=<BinaryCrossEntropyBackward0>)\n",
            "[8,    50] accuracy: 0.782, loss: 0.010\n",
            "[8,   100] accuracy: 0.775, loss: 0.010\n",
            "100\n",
            "tensor(0.5104, device='cuda:0', grad_fn=<BinaryCrossEntropyBackward0>)\n",
            "[8,   150] accuracy: 0.774, loss: 0.010\n",
            "[8,   200] accuracy: 0.773, loss: 0.010\n",
            "200\n",
            "tensor(0.4804, device='cuda:0', grad_fn=<BinaryCrossEntropyBackward0>)\n",
            "[8,   250] accuracy: 0.775, loss: 0.010\n",
            "[8,   300] accuracy: 0.777, loss: 0.010\n",
            "300\n",
            "tensor(0.4032, device='cuda:0', grad_fn=<BinaryCrossEntropyBackward0>)\n",
            "[8,   350] accuracy: 0.778, loss: 0.010\n",
            "[8,   400] accuracy: 0.775, loss: 0.010\n",
            "400\n",
            "tensor(0.4523, device='cuda:0', grad_fn=<BinaryCrossEntropyBackward0>)\n",
            "[8,   450] accuracy: 0.774, loss: 0.010\n",
            "Epoch 8 completed. Training Loss: 0.010, Training Accuracy: 77.464\n",
            "Epoch 8 completed. Validation Loss: 0.010, Validation Accuracy: 78.136\n",
            "462\n",
            "0\n",
            "tensor(0.5160, device='cuda:0', grad_fn=<BinaryCrossEntropyBackward0>)\n",
            "[9,    50] accuracy: 0.798, loss: 0.009\n",
            "[9,   100] accuracy: 0.791, loss: 0.009\n",
            "100\n",
            "tensor(0.4764, device='cuda:0', grad_fn=<BinaryCrossEntropyBackward0>)\n",
            "[9,   150] accuracy: 0.790, loss: 0.009\n",
            "[9,   200] accuracy: 0.790, loss: 0.009\n",
            "200\n",
            "tensor(0.5049, device='cuda:0', grad_fn=<BinaryCrossEntropyBackward0>)\n",
            "[9,   250] accuracy: 0.790, loss: 0.009\n",
            "[9,   300] accuracy: 0.794, loss: 0.009\n",
            "300\n",
            "tensor(0.3593, device='cuda:0', grad_fn=<BinaryCrossEntropyBackward0>)\n",
            "[9,   350] accuracy: 0.793, loss: 0.009\n",
            "[9,   400] accuracy: 0.791, loss: 0.009\n",
            "400\n",
            "tensor(0.3937, device='cuda:0', grad_fn=<BinaryCrossEntropyBackward0>)\n",
            "[9,   450] accuracy: 0.790, loss: 0.009\n",
            "Epoch 9 completed. Training Loss: 0.009, Training Accuracy: 79.075\n",
            "Epoch 9 completed. Validation Loss: 0.009, Validation Accuracy: 78.725\n",
            "462\n",
            "0\n",
            "tensor(0.4964, device='cuda:0', grad_fn=<BinaryCrossEntropyBackward0>)\n",
            "[10,    50] accuracy: 0.806, loss: 0.009\n",
            "[10,   100] accuracy: 0.800, loss: 0.009\n",
            "100\n",
            "tensor(0.4240, device='cuda:0', grad_fn=<BinaryCrossEntropyBackward0>)\n",
            "[10,   150] accuracy: 0.798, loss: 0.009\n",
            "[10,   200] accuracy: 0.799, loss: 0.009\n",
            "200\n",
            "tensor(0.4849, device='cuda:0', grad_fn=<BinaryCrossEntropyBackward0>)\n",
            "[10,   250] accuracy: 0.802, loss: 0.009\n",
            "[10,   300] accuracy: 0.805, loss: 0.009\n",
            "300\n",
            "tensor(0.2789, device='cuda:0', grad_fn=<BinaryCrossEntropyBackward0>)\n",
            "[10,   350] accuracy: 0.805, loss: 0.009\n",
            "[10,   400] accuracy: 0.801, loss: 0.009\n",
            "400\n",
            "tensor(0.3843, device='cuda:0', grad_fn=<BinaryCrossEntropyBackward0>)\n",
            "[10,   450] accuracy: 0.801, loss: 0.009\n",
            "Epoch 10 completed. Training Loss: 0.009, Training Accuracy: 80.184\n",
            "Epoch 10 completed. Validation Loss: 0.009, Validation Accuracy: 79.314\n",
            "462\n",
            "0\n",
            "tensor(0.4063, device='cuda:0', grad_fn=<BinaryCrossEntropyBackward0>)\n",
            "[11,    50] accuracy: 0.822, loss: 0.008\n",
            "[11,   100] accuracy: 0.817, loss: 0.008\n",
            "100\n",
            "tensor(0.4850, device='cuda:0', grad_fn=<BinaryCrossEntropyBackward0>)\n",
            "[11,   150] accuracy: 0.810, loss: 0.008\n",
            "[11,   200] accuracy: 0.812, loss: 0.008\n",
            "200\n",
            "tensor(0.4556, device='cuda:0', grad_fn=<BinaryCrossEntropyBackward0>)\n",
            "[11,   250] accuracy: 0.813, loss: 0.008\n",
            "[11,   300] accuracy: 0.814, loss: 0.008\n",
            "300\n",
            "tensor(0.3647, device='cuda:0', grad_fn=<BinaryCrossEntropyBackward0>)\n",
            "[11,   350] accuracy: 0.813, loss: 0.008\n",
            "[11,   400] accuracy: 0.812, loss: 0.008\n",
            "400\n",
            "tensor(0.4057, device='cuda:0', grad_fn=<BinaryCrossEntropyBackward0>)\n",
            "[11,   450] accuracy: 0.810, loss: 0.008\n",
            "Epoch 11 completed. Training Loss: 0.008, Training Accuracy: 81.045\n",
            "Epoch 11 completed. Validation Loss: 0.009, Validation Accuracy: 80.249\n",
            "462\n",
            "0\n",
            "tensor(0.4299, device='cuda:0', grad_fn=<BinaryCrossEntropyBackward0>)\n",
            "[12,    50] accuracy: 0.820, loss: 0.008\n",
            "[12,   100] accuracy: 0.819, loss: 0.008\n",
            "100\n",
            "tensor(0.4490, device='cuda:0', grad_fn=<BinaryCrossEntropyBackward0>)\n",
            "[12,   150] accuracy: 0.818, loss: 0.008\n",
            "[12,   200] accuracy: 0.820, loss: 0.008\n",
            "200\n",
            "tensor(0.3997, device='cuda:0', grad_fn=<BinaryCrossEntropyBackward0>)\n",
            "[12,   250] accuracy: 0.820, loss: 0.008\n",
            "[12,   300] accuracy: 0.822, loss: 0.008\n",
            "300\n",
            "tensor(0.3321, device='cuda:0', grad_fn=<BinaryCrossEntropyBackward0>)\n",
            "[12,   350] accuracy: 0.822, loss: 0.008\n",
            "[12,   400] accuracy: 0.819, loss: 0.008\n",
            "400\n",
            "tensor(0.4400, device='cuda:0', grad_fn=<BinaryCrossEntropyBackward0>)\n",
            "[12,   450] accuracy: 0.816, loss: 0.008\n",
            "Epoch 12 completed. Training Loss: 0.008, Training Accuracy: 81.717\n",
            "Epoch 12 completed. Validation Loss: 0.009, Validation Accuracy: 80.146\n",
            "462\n",
            "0\n",
            "tensor(0.4439, device='cuda:0', grad_fn=<BinaryCrossEntropyBackward0>)\n",
            "[13,    50] accuracy: 0.838, loss: 0.008\n",
            "[13,   100] accuracy: 0.825, loss: 0.008\n",
            "100\n",
            "tensor(0.4508, device='cuda:0', grad_fn=<BinaryCrossEntropyBackward0>)\n",
            "[13,   150] accuracy: 0.824, loss: 0.008\n",
            "[13,   200] accuracy: 0.825, loss: 0.008\n",
            "200\n",
            "tensor(0.3291, device='cuda:0', grad_fn=<BinaryCrossEntropyBackward0>)\n",
            "[13,   250] accuracy: 0.826, loss: 0.008\n",
            "[13,   300] accuracy: 0.829, loss: 0.008\n",
            "300\n",
            "tensor(0.3143, device='cuda:0', grad_fn=<BinaryCrossEntropyBackward0>)\n",
            "[13,   350] accuracy: 0.828, loss: 0.008\n",
            "[13,   400] accuracy: 0.826, loss: 0.008\n",
            "400\n",
            "tensor(0.3412, device='cuda:0', grad_fn=<BinaryCrossEntropyBackward0>)\n",
            "[13,   450] accuracy: 0.825, loss: 0.008\n",
            "Epoch 13 completed. Training Loss: 0.008, Training Accuracy: 82.565\n",
            "Epoch 13 completed. Validation Loss: 0.009, Validation Accuracy: 80.665\n",
            "462\n",
            "0\n",
            "tensor(0.3953, device='cuda:0', grad_fn=<BinaryCrossEntropyBackward0>)\n",
            "[14,    50] accuracy: 0.843, loss: 0.007\n",
            "[14,   100] accuracy: 0.834, loss: 0.008\n",
            "100\n",
            "tensor(0.4235, device='cuda:0', grad_fn=<BinaryCrossEntropyBackward0>)\n",
            "[14,   150] accuracy: 0.831, loss: 0.008\n",
            "[14,   200] accuracy: 0.832, loss: 0.008\n",
            "200\n",
            "tensor(0.3307, device='cuda:0', grad_fn=<BinaryCrossEntropyBackward0>)\n",
            "[14,   250] accuracy: 0.832, loss: 0.008\n",
            "[14,   300] accuracy: 0.835, loss: 0.008\n",
            "300\n",
            "tensor(0.3149, device='cuda:0', grad_fn=<BinaryCrossEntropyBackward0>)\n",
            "[14,   350] accuracy: 0.834, loss: 0.008\n",
            "[14,   400] accuracy: 0.832, loss: 0.008\n",
            "400\n",
            "tensor(0.3741, device='cuda:0', grad_fn=<BinaryCrossEntropyBackward0>)\n",
            "[14,   450] accuracy: 0.830, loss: 0.008\n",
            "Epoch 14 completed. Training Loss: 0.008, Training Accuracy: 83.033\n",
            "Epoch 14 completed. Validation Loss: 0.009, Validation Accuracy: 80.735\n",
            "462\n",
            "0\n",
            "tensor(0.4118, device='cuda:0', grad_fn=<BinaryCrossEntropyBackward0>)\n",
            "[15,    50] accuracy: 0.838, loss: 0.007\n",
            "[15,   100] accuracy: 0.835, loss: 0.007\n",
            "100\n",
            "tensor(0.4364, device='cuda:0', grad_fn=<BinaryCrossEntropyBackward0>)\n",
            "[15,   150] accuracy: 0.831, loss: 0.007\n",
            "[15,   200] accuracy: 0.831, loss: 0.007\n",
            "200\n",
            "tensor(0.3463, device='cuda:0', grad_fn=<BinaryCrossEntropyBackward0>)\n",
            "[15,   250] accuracy: 0.833, loss: 0.007\n",
            "[15,   300] accuracy: 0.835, loss: 0.007\n",
            "300\n",
            "tensor(0.2990, device='cuda:0', grad_fn=<BinaryCrossEntropyBackward0>)\n",
            "[15,   350] accuracy: 0.836, loss: 0.007\n",
            "[15,   400] accuracy: 0.835, loss: 0.007\n",
            "400\n",
            "tensor(0.3856, device='cuda:0', grad_fn=<BinaryCrossEntropyBackward0>)\n",
            "[15,   450] accuracy: 0.833, loss: 0.008\n",
            "Epoch 15 completed. Training Loss: 0.008, Training Accuracy: 83.384\n",
            "Epoch 15 completed. Validation Loss: 0.009, Validation Accuracy: 80.908\n"
          ]
        }
      ],
      "source": [
        "import torch.optim as optim\n",
        "from torch.autograd import Variable\n",
        "\n",
        "\n",
        "model = model1.cuda()\n",
        "\n",
        "los_values = []\n",
        "acc_values = []\n",
        "\n",
        "val_los_values = []\n",
        "val_acc_values = []\n",
        "\n",
        "criterion = nn.BCELoss()\n",
        "optimizer = optim.SGD(model.parameters(), lr=0.01, momentum=0.9)\n",
        "\n",
        "\n",
        "\n",
        "for epoch in range(15):\n",
        "\n",
        "    running_loss = 0.0\n",
        "    running_corrects = 0.0\n",
        "    count = 0\n",
        "    print(len(train_dataloader))\n",
        "\n",
        "    for i, data in enumerate(train_dataloader, 0):\n",
        "\n",
        "        inputs, labels = data\n",
        "\n",
        "        # Pad sequences to the maximum length in the batch\n",
        "        # max_len = max([len(seq) for seq in inputs])\n",
        "        # padded_inputs = torch.zeros(len(inputs), max_len).long()\n",
        "\n",
        "        # for idx, seq in enumerate(inputs):\n",
        "        #     padded_inputs[idx, :len(seq)] = seq\n",
        "\n",
        "        inputs, labels = Variable(inputs.cuda()), Variable(labels.cuda())\n",
        "        optimizer.zero_grad()\n",
        "        outputs = model(inputs)\n",
        "\n",
        "        preds = (outputs > 0.5).float()\n",
        "        labels = labels.view(-1, 1)\n",
        "        loss = criterion(outputs.float(), labels.float())\n",
        "\n",
        "        if(i%100 == 0):\n",
        "          print(i)\n",
        "          print(loss)\n",
        "\n",
        "        loss.backward()\n",
        "        optimizer.step()\n",
        "\n",
        "        running_loss += loss.item()\n",
        "        running_corrects += torch.sum(preds == labels.data)\n",
        "        count += len(preds)\n",
        "\n",
        "        if i % 50 == 49:\n",
        "            print(f'[{epoch + 1}, {i + 1:5d}] accuracy: {running_corrects / count:.3f}, loss: {running_loss / count:.3f}')\n",
        "\n",
        "    epoch_loss = running_loss / len(train_dataloader.dataset)\n",
        "    epoch_acc = (running_corrects / len(train_dataloader.dataset))*100\n",
        "    print(f'Epoch {epoch + 1} completed. Training Loss: {epoch_loss:.3f}, Training Accuracy: {epoch_acc:.3f}')\n",
        "    los_values.append(epoch_loss)\n",
        "    acc_values.append(epoch_acc)\n",
        "\n",
        "    running_loss = 0.0\n",
        "    running_corrects = 0\n",
        "    count = 0\n",
        "\n",
        "    val_corrects = 0.0\n",
        "    val_loss = 0.0\n",
        "\n",
        "    with torch.no_grad():\n",
        "        for data in val_dataloader:\n",
        "            inputs, labels = data\n",
        "\n",
        "            # Pad sequences to the maximum length in the batch\n",
        "            # max_len = max([len(seq) for seq in inputs])\n",
        "            # padded_inputs = torch.zeros(len(inputs), max_len).long()\n",
        "\n",
        "            # for idx, seq in enumerate(inputs):\n",
        "            #     padded_inputs[idx, :len(seq)] = seq\n",
        "\n",
        "            inputs, labels = Variable(inputs.cuda()), Variable(labels.cuda())\n",
        "\n",
        "            outputs = model(inputs)\n",
        "            preds = (outputs > 0.5).float()\n",
        "            labels = labels.view(-1, 1)\n",
        "            vloss = criterion(outputs.float(), labels.float())\n",
        "\n",
        "            val_loss +=vloss.item()\n",
        "            val_corrects += torch.sum(preds == labels.data)\n",
        "\n",
        "    val_accuracy = (val_corrects / len(val_dataloader.dataset)) * 100\n",
        "    ep_val_loss = val_loss/len(val_dataloader.dataset)\n",
        "\n",
        "    print(f'Epoch {epoch + 1} completed. Validation Loss: {ep_val_loss:.3f}, Validation Accuracy: {val_accuracy:.3f}')\n",
        "    val_los_values.append(ep_val_loss)\n",
        "    val_acc_values.append(val_accuracy)\n"
      ]
    },
    {
      "cell_type": "code",
      "execution_count": null,
      "metadata": {
        "colab": {
          "base_uri": "https://localhost:8080/"
        },
        "id": "R8z2EaKOrTQL",
        "outputId": "255d032e-3ae3-4b6d-c45b-21aad941b8c2"
      },
      "outputs": [
        {
          "name": "stdout",
          "output_type": "stream",
          "text": [
            "Test Accuracy: 80.53%\n"
          ]
        }
      ],
      "source": [
        "# NOTE: if the accuracy on test data after 15 epochs is less than 80% smth goes wrong\n",
        "model.eval()\n",
        "test_corrects = 0\n",
        "test_total = 0\n",
        "\n",
        "y_predl = []\n",
        "y_truel = []\n",
        "\n",
        "with torch.no_grad():\n",
        "    for data in test_dataloader:\n",
        "        inputs, labels = data\n",
        "        # max_len = max([len(seq) for seq in inputs])\n",
        "        # padded_inputs = torch.zeros(len(inputs), max_len).long()\n",
        "\n",
        "        # for idx, seq in enumerate(inputs):\n",
        "        #     padded_inputs[idx, :len(seq)] = seq\n",
        "\n",
        "        inputs, labels = Variable(inputs.cuda()), Variable(labels.cuda())\n",
        "\n",
        "        outputs = model(inputs)\n",
        "        preds = (outputs > 0.5).float()\n",
        "        labels = labels.view(-1, 1)\n",
        "\n",
        "        #print(preds)\n",
        "        #print(labels.data)\n",
        "\n",
        "        test_corrects += torch.sum(preds == labels.data)\n",
        "        test_total += len(preds)\n",
        "\n",
        "        y_predl.append(preds)\n",
        "        y_truel.append(labels.data)\n",
        "\n",
        "\n",
        "test_accuracy = (test_corrects / test_total) * 100\n",
        "print(f'Test Accuracy: {test_accuracy:.2f}%')\n"
      ]
    },
    {
      "cell_type": "code",
      "execution_count": null,
      "metadata": {
        "colab": {
          "base_uri": "https://localhost:8080/",
          "height": 302
        },
        "id": "a7fB20QQrXB1",
        "outputId": "b1dafad1-d991-4ad8-c1c4-abb75d59100e"
      },
      "outputs": [
        {
          "data": {
            "image/png": "[encoded data removed]",
            "text/plain": [
              "<Figure size 1600x600 with 2 Axes>"
            ]
          },
          "metadata": {},
          "output_type": "display_data"
        }
      ],
      "source": [
        "import matplotlib.pyplot as plt\n",
        "import numpy as np\n",
        "\n",
        "epochs = range(1, len(los_values) + 1)\n",
        "\n",
        "acc_train= [tensor.item() for tensor in acc_values]\n",
        "acc_val = [tensor.item() for tensor in val_acc_values]\n",
        "\n",
        "fig, axs = plt.subplots(1, 2, figsize=(16, 6))\n",
        "plt.subplots_adjust(left=0.1, right=1.5, bottom=0.1, top=0.9)\n",
        "\n",
        "axs[0].plot(epochs, los_values, 'b', label='Training loss')\n",
        "axs[0].plot(epochs, val_los_values, 'r', label='Validation loss')\n",
        "axs[0].set_title('Training and Validation Loss')\n",
        "axs[0].set_xlabel('Epochs')\n",
        "axs[0].set_ylabel('Loss')\n",
        "axs[0].legend()\n",
        "axs[0].grid(True)\n",
        "\n",
        "\n",
        "axs[1].plot(epochs, acc_train, 'b', label='Training accuracy')\n",
        "axs[1].plot(epochs, acc_val, 'r', label='Validation accuracy')\n",
        "axs[1].set_title('Training and Validation Accuracy')\n",
        "axs[1].set_xlabel('Epochs')\n",
        "axs[1].set_ylabel('Accuracy')\n",
        "axs[1].legend()\n",
        "axs[1].grid(True)\n",
        "\n",
        "plt.show()"
      ]
    },
    {
      "cell_type": "code",
      "execution_count": null,
      "metadata": {
        "colab": {
          "base_uri": "https://localhost:8080/"
        },
        "id": "gCHvBn7G3auw",
        "outputId": "eae057f0-e7eb-463d-df0f-380b0db3bf50"
      },
      "outputs": [
        {
          "name": "stdout",
          "output_type": "stream",
          "text": [
            "Precision: 0.8099\n",
            "Recall: 0.8836\n",
            "F1 Score: 0.8452\n",
            "Confusion Matrix:\n",
            "[[ 791  360]\n",
            " [ 202 1534]]\n"
          ]
        }
      ],
      "source": [
        "from sklearn.metrics import precision_score, recall_score, f1_score, confusion_matrix\n",
        "y_pred = torch.cat(y_predl).cpu().numpy().flatten()\n",
        "y_true = torch.cat(y_truel).cpu().numpy().flatten()\n",
        "\n",
        "# Compute precision, recall, and F1 score\n",
        "precision = precision_score(y_true, y_pred)\n",
        "recall = recall_score(y_true, y_pred)\n",
        "f1 = f1_score(y_true, y_pred)\n",
        "\n",
        "# Compute confusion matrix\n",
        "conf_matrix = confusion_matrix(y_true, y_pred)\n",
        "\n",
        "print(f'Precision: {precision:.4f}')\n",
        "print(f'Recall: {recall:.4f}')\n",
        "print(f'F1 Score: {f1:.4f}')\n",
        "print(f'Confusion Matrix:\\n{conf_matrix}')"
      ]
    },
    {
      "cell_type": "code",
      "execution_count": null,
      "metadata": {
        "colab": {
          "base_uri": "https://localhost:8080/"
        },
        "id": "eCLTP-pDhVGj",
        "outputId": "c1f4247e-d94f-4fcb-d594-f245785b5312"
      },
      "outputs": [
        {
          "name": "stdout",
          "output_type": "stream",
          "text": [
            "Class 1 - True Positive Rate: 0.69, False Positive Rate: 0.12\n",
            "Class 1 - Precision: 0.80, Recall: 0.69\n",
            "\n",
            "Class 2 - True Positive Rate: 0.88, False Positive Rate: 0.31\n",
            "Class 2 - Precision: 0.81, Recall: 0.88\n",
            "\n"
          ]
        }
      ],
      "source": [
        "from sklearn.metrics import confusion_matrix\n",
        "con_mat = confusion_matrix(y_true, y_pred)\n",
        "\n",
        "number_of_classes = con_mat.shape[0]\n",
        "\n",
        "for i in range(number_of_classes):\n",
        "\n",
        "    tp = con_mat[i, i]\n",
        "    fn = np.sum(con_mat[i, :]) - tp\n",
        "    fp = np.sum(con_mat[:, i]) - tp\n",
        "    tn = np.sum(con_mat) - (tp + fn + fp)\n",
        "\n",
        "    precision = tp / (tp + fp) if tp + fp != 0 else 0\n",
        "    recall = tp / (tp + fn) if tp + fn != 0 else 0\n",
        "\n",
        "    tpr = tp / (tp + fn) if tp + fn != 0 else 0\n",
        "    fpr = fp / (fp + tn) if fp + tn != 0 else 0\n",
        "\n",
        "    print(f\"Class {i + 1} - True Positive Rate: {tpr:.2f}, False Positive Rate: {fpr:.2f}\")\n",
        "    print(f\"Class {i + 1} - Precision: {precision:.2f}, Recall: {recall:.2f}\")\n",
        "    print()"
      ]
    },
    {
      "cell_type": "code",
      "execution_count": null,
      "metadata": {
        "colab": {
          "base_uri": "https://localhost:8080/",
          "height": 466
        },
        "id": "IRmDMfY0nc20",
        "outputId": "b7616e73-ceb4-4223-fbd9-4f35c12e0395"
      },
      "outputs": [
        {
          "data": {
            "image/png": "[encoded data removed]",
            "text/plain": [
              "<Figure size 640x480 with 2 Axes>"
            ]
          },
          "metadata": {},
          "output_type": "display_data"
        },
        {
          "data": {
            "text/plain": [
              "<Figure size 1000x500 with 0 Axes>"
            ]
          },
          "metadata": {},
          "output_type": "display_data"
        }
      ],
      "source": [
        "import seaborn as sns\n",
        "sns.heatmap(con_mat, annot=True, fmt='d', cmap='cividis', cbar=True)\n",
        "\n",
        "plt.xlabel('Predicted')\n",
        "plt.ylabel('True')\n",
        "plt.figure(figsize=(10,5))\n",
        "plt.show()\n"
      ]
    },
    {
      "cell_type": "code",
      "execution_count": null,
      "metadata": {
        "colab": {
          "base_uri": "https://localhost:8080/"
        },
        "id": "i0BoPYGhn_Au",
        "outputId": "befb4253-70c4-49f4-d853-7c1bb797a76a"
      },
      "outputs": [
        {
          "name": "stdout",
          "output_type": "stream",
          "text": [
            "TransformHelp(\n",
            "  (embd): Embedding(100000, 74)\n",
            "  (tra_enc_layer): TransformerEncoderLayer(\n",
            "    (self_attn): MultiheadAttention(\n",
            "      (out_proj): NonDynamicallyQuantizableLinear(in_features=74, out_features=74, bias=True)\n",
            "    )\n",
            "    (linear1): Linear(in_features=74, out_features=256, bias=True)\n",
            "    (dropout): Dropout(p=0.1, inplace=False)\n",
            "    (linear2): Linear(in_features=256, out_features=74, bias=True)\n",
            "    (norm1): LayerNorm((74,), eps=1e-05, elementwise_affine=True)\n",
            "    (norm2): LayerNorm((74,), eps=1e-05, elementwise_affine=True)\n",
            "    (dropout1): Dropout(p=0.1, inplace=False)\n",
            "    (dropout2): Dropout(p=0.1, inplace=False)\n",
            "  )\n",
            "  (trans_enc): TransformerEncoder(\n",
            "    (layers): ModuleList(\n",
            "      (0-5): 6 x TransformerEncoderLayer(\n",
            "        (self_attn): MultiheadAttention(\n",
            "          (out_proj): NonDynamicallyQuantizableLinear(in_features=74, out_features=74, bias=True)\n",
            "        )\n",
            "        (linear1): Linear(in_features=74, out_features=256, bias=True)\n",
            "        (dropout): Dropout(p=0.1, inplace=False)\n",
            "        (linear2): Linear(in_features=256, out_features=74, bias=True)\n",
            "        (norm1): LayerNorm((74,), eps=1e-05, elementwise_affine=True)\n",
            "        (norm2): LayerNorm((74,), eps=1e-05, elementwise_affine=True)\n",
            "        (dropout1): Dropout(p=0.1, inplace=False)\n",
            "        (dropout2): Dropout(p=0.1, inplace=False)\n",
            "      )\n",
            "    )\n",
            "  )\n",
            "  (fc): Linear(in_features=74, out_features=1, bias=True)\n",
            ")\n",
            "Total number of parameters: 7830549\n"
          ]
        }
      ],
      "source": [
        "print(model)\n",
        "total_params = sum(p.numel() for p in model.parameters())\n",
        "print(f\"Total number of parameters: {total_params}\")"
      ]
    },
    {
      "cell_type": "code",
      "execution_count": null,
      "metadata": {
        "colab": {
          "base_uri": "https://localhost:8080/",
          "height": 427
        },
        "id": "sJKhvDOXWNK4",
        "outputId": "830ea305-791b-46fb-9c69-c3f10f2b9d33"
      },
      "outputs": [
        {
          "name": "stdout",
          "output_type": "stream",
          "text": [
            "0.785434524977279\n"
          ]
        },
        {
          "data": {
            "image/png": "[encoded data removed]",
            "text/plain": [
              "<Figure size 600x400 with 1 Axes>"
            ]
          },
          "metadata": {},
          "output_type": "display_data"
        }
      ],
      "source": [
        "from sklearn.metrics import roc_curve, auc\n",
        "fpr, tpr, _ = roc_curve(y_true, y_pred)\n",
        "roc_auc = auc(fpr, tpr)\n",
        "print(roc_auc)\n",
        "\n",
        "# Plot ROC curve\n",
        "plt.figure(figsize=(6, 4))\n",
        "plt.plot(fpr, tpr, color='darkorange', lw=2, label=f'ROC curve (area = {roc_auc:.2f})')\n",
        "plt.plot([0, 1], [0, 1], color='navy', lw=2, linestyle='--')\n",
        "plt.xlim([0.0, 1.0])\n",
        "plt.ylim([0.0, 1.05])\n",
        "plt.xlabel('False Positive Rate')\n",
        "plt.ylabel('True Positive Rate')\n",
        "plt.title('Receiver Operating Characteristic (ROC) Curve')\n",
        "plt.legend(loc='lower right')\n",
        "plt.show()"
      ]
    },
    {
      "cell_type": "code",
      "execution_count": null,
      "metadata": {
        "colab": {
          "base_uri": "https://localhost:8080/",
          "height": 410
        },
        "id": "imgJojLPWuib",
        "outputId": "c60ec51d-b171-49a4-be6c-3f7a576d9d9b"
      },
      "outputs": [
        {
          "data": {
            "image/png": "[encoded data removed]",
            "text/plain": [
              "<Figure size 600x400 with 1 Axes>"
            ]
          },
          "metadata": {},
          "output_type": "display_data"
        }
      ],
      "source": [
        "from sklearn.metrics import precision_recall_curve\n",
        "precision, recall, _ = precision_recall_curve(y_true, y_pred)\n",
        "\n",
        "# Plot Precision-Recall curve\n",
        "plt.figure(figsize=(6, 4))\n",
        "plt.plot(recall, precision, color='darkorange', lw=2)\n",
        "#plt.fill_between(recall, precision, alpha=0.2, color='b')\n",
        "plt.xlabel('Recall')\n",
        "plt.ylabel('Precision')\n",
        "plt.ylim([0.0, 1.05])\n",
        "plt.xlim([0.0, 1.0])\n",
        "plt.title('Precision-Recall Curve')\n",
        "plt.show()"
      ]
    },
    {
      "cell_type": "code",
      "execution_count": null,
      "metadata": {
        "id": "hPmLlDgwn-wk"
      },
      "outputs": [],
      "source": [
        "import pickle\n",
        "with open('/content/drive/MyDrive/DL_Proj-main/DL_Proj-changes/transformer.pkl', 'wb') as f:\n",
        "    pickle.dump(model, f)"
      ]
    },
    {
      "cell_type": "code",
      "execution_count": null,
      "metadata": {
        "id": "o6TiyVGKoH2y"
      },
      "outputs": [],
      "source": [
        "import pickle\n",
        "with open('/content/drive/MyDrive/DL_Proj-main/DL_Proj-changes/transformer.pkl', 'rb') as f:\n",
        "    model1 = pickle.load(f)"
      ]
    },
    {
      "cell_type": "markdown",
      "metadata": {
        "id": "S6NytaEXhWK6"
      },
      "source": [
        "# Transoformer using GLOVE"
      ]
    },
    {
      "cell_type": "code",
      "execution_count": null,
      "metadata": {
        "colab": {
          "base_uri": "https://localhost:8080/"
        },
        "id": "KSnmpaFj2Pd2",
        "outputId": "96bc6861-794d-41bb-f68c-10407bb69921"
      },
      "outputs": [
        {
          "name": "stdout",
          "output_type": "stream",
          "text": [
            "400001\n",
            "torch.Size([400001, 74])\n"
          ]
        }
      ],
      "source": [
        "import numpy as np\n",
        "import torch\n",
        "def gloveEmbeddings(path, embedding_dim=74):\n",
        "    embeds = {}\n",
        "    with open(path, 'r', encoding='utf-8') as f:\n",
        "        for line in f:\n",
        "            values = line.split()\n",
        "            word = values[0]\n",
        "            vector = np.asarray(values[1:embedding_dim+1], dtype=np.float32)\n",
        "            embeds[word] = vector\n",
        "    return embeds\n",
        "\n",
        "glove_path = '/content/drive/MyDrive/DL_Proj-main/DL_Proj-changes/glove.6B.300d.txt'\n",
        "glove_embeddings = gloveEmbeddings(glove_path)\n",
        "vocab = {word: i+1 for i, word in enumerate(glove_embeddings)}\n",
        "vocab_size = len(vocab) + 1\n",
        "print(vocab_size)\n",
        "embedding_dim = 74\n",
        "\n",
        "def embedding_matrix(glove_embeddings, vocab, embedding_dim):\n",
        "    embd_matrix = np.zeros((len(vocab)+1, embedding_dim))\n",
        "\n",
        "    for word, idx in vocab.items():\n",
        "        embd_matrix[idx] = glove_embeddings.get(word, np.zeros(embedding_dim))\n",
        "\n",
        "    return torch.tensor(embd_matrix, dtype=torch.float32)\n",
        "\n",
        "embed_tensor = embedding_matrix(glove_embeddings, vocab, embedding_dim)\n",
        "print(embed_tensor.shape)"
      ]
    },
    {
      "cell_type": "code",
      "execution_count": null,
      "metadata": {
        "id": "-Da5ETRrlmLP"
      },
      "outputs": [],
      "source": [
        "import torch.nn as nn\n",
        "import torch\n",
        "import numpy as np\n",
        "import torch.optim as optim\n",
        "from torch.autograd import Variable\n",
        "\n",
        "def getPositionEncoding(s_len, d_model, n=10000):\n",
        "    P = np.zeros((s_len, d_model))\n",
        "    for k in range(s_len):\n",
        "        for i in np.arange(int(d_model/2)):\n",
        "            denominator = np.power(n, 2*i/d_model)\n",
        "            P[k, 2*i] = np.sin(k/denominator)\n",
        "            P[k, 2*i+1] = np.cos(k/denominator)\n",
        "    return torch.from_numpy(P).float()\n",
        "\n",
        "class TransformHelp(nn.Module):\n",
        "    def __init__(self, vocab_size, embedding_size, d_model, nhead, hidden_size, num_layers, dropout, glove_embeddings = embed_tensor):\n",
        "        super(TransformHelp, self).__init__()\n",
        "\n",
        "        # Adjust embedding_dim to match d_model\n",
        "        embedding_dim = d_model\n",
        "\n",
        "        self.embd = nn.Embedding.from_pretrained(glove_embeddings, freeze=False, padding_idx=0)\n",
        "        self.pos_enc = nn.Parameter(getPositionEncoding(embedding_size, d_model=d_model))\n",
        "        self.tra_enc_layer = nn.TransformerEncoderLayer(d_model, nhead, hidden_size, dropout)\n",
        "        self.trans_enc = nn.TransformerEncoder(self.tra_enc_layer, num_layers)\n",
        "\n",
        "        self.fc = nn.Linear(d_model, 1)\n",
        "\n",
        "    def forward(self, x):\n",
        "        x = self.embd(x)\n",
        "        x = x * np.sqrt(self.pos_enc.shape[1])\n",
        "        x = x + self.pos_enc\n",
        "        x = self.trans_enc(x)\n",
        "        x = torch.mean(x, dim=1)\n",
        "        x = self.fc(x)\n",
        "        return torch.sigmoid(x)"
      ]
    },
    {
      "cell_type": "code",
      "execution_count": null,
      "metadata": {
        "colab": {
          "base_uri": "https://localhost:8080/"
        },
        "id": "K1HJLEiLnhyN",
        "outputId": "fa0a1faa-f75e-415a-881c-ba89bc11543f"
      },
      "outputs": [
        {
          "name": "stderr",
          "output_type": "stream",
          "text": [
            "/usr/local/lib/python3.10/dist-packages/torch/nn/modules/transformer.py:286: UserWarning: enable_nested_tensor is True, but self.use_nested_tensor is False because encoder_layer.self_attn.batch_first was not True(use batch_first for better inference performance)\n",
            "  warnings.warn(f\"enable_nested_tensor is True, but self.use_nested_tensor is False because {why_not_sparsity_fast_path}\")\n"
          ]
        }
      ],
      "source": [
        "vocab_size = 100000\n",
        "embedding_size = 74\n",
        "d_model = 74\n",
        "nhead = 2\n",
        "hidden_size = 256\n",
        "num_layers = 6\n",
        "dropout = 0.1\n",
        "\n",
        "\n",
        "model1 = TransformHelp(vocab_size, embedding_size, d_model, nhead, hidden_size, num_layers, dropout)"
      ]
    },
    {
      "cell_type": "code",
      "execution_count": null,
      "metadata": {
        "colab": {
          "base_uri": "https://localhost:8080/"
        },
        "id": "OtRub3-wQS6l",
        "outputId": "aaab9edf-ea9c-4d01-9089-b602c6b9809e"
      },
      "outputs": [
        {
          "name": "stdout",
          "output_type": "stream",
          "text": [
            "Total number of parameters: 30030623\n"
          ]
        }
      ],
      "source": [
        "total_params = sum(p.numel() for p in model.parameters())\n",
        "print(f\"Total number of parameters: {total_params}\")"
      ]
    },
    {
      "cell_type": "code",
      "execution_count": null,
      "metadata": {
        "colab": {
          "base_uri": "https://localhost:8080/"
        },
        "id": "saOVkKp0ghZS",
        "outputId": "0f810610-a00d-4541-b4fe-65c4d175ed63"
      },
      "outputs": [
        {
          "name": "stdout",
          "output_type": "stream",
          "text": [
            "torch.Size([50, 1])\n"
          ]
        }
      ],
      "source": [
        "input_tensor = torch.randint(0, 100000, (50, 74))  # Shape: [50, 74]\n",
        "\n",
        "# Forward pass to get the shapes\n",
        "output = model1(input_tensor)\n",
        "print(output.shape)"
      ]
    },
    {
      "cell_type": "code",
      "execution_count": null,
      "metadata": {
        "id": "Y8zn5c1C3bD5"
      },
      "outputs": [],
      "source": [
        "model = TransformHelp(vocab_size, embedding_size, d_model, nhead, hidden_size, num_layers, dropout, glove_embeddings=embed_tensor)\n",
        "\n",
        "# Print the shape of each layer\n",
        "for name, param in model.named_parameters():\n",
        "    print(f\"{name}: {param.shape}\")"
      ]
    },
    {
      "cell_type": "code",
      "execution_count": null,
      "metadata": {
        "colab": {
          "base_uri": "https://localhost:8080/"
        },
        "id": "vw6ePmDhnhfY",
        "outputId": "efd28ff5-9d15-428e-ba36-f0d47aa91fb3"
      },
      "outputs": [
        {
          "name": "stdout",
          "output_type": "stream",
          "text": [
            "462\n",
            "0\n",
            "tensor(0.8504, device='cuda:0', grad_fn=<BinaryCrossEntropyBackward0>)\n",
            "[1,    50] accuracy: 0.589, loss: 0.014\n",
            "[1,   100] accuracy: 0.598, loss: 0.014\n",
            "100\n",
            "tensor(0.6671, device='cuda:0', grad_fn=<BinaryCrossEntropyBackward0>)\n",
            "[1,   150] accuracy: 0.605, loss: 0.013\n",
            "[1,   200] accuracy: 0.612, loss: 0.013\n",
            "200\n",
            "tensor(0.7319, device='cuda:0', grad_fn=<BinaryCrossEntropyBackward0>)\n",
            "[1,   250] accuracy: 0.620, loss: 0.013\n",
            "[1,   300] accuracy: 0.625, loss: 0.013\n",
            "300\n",
            "tensor(0.5557, device='cuda:0', grad_fn=<BinaryCrossEntropyBackward0>)\n",
            "[1,   350] accuracy: 0.628, loss: 0.013\n",
            "[1,   400] accuracy: 0.629, loss: 0.013\n",
            "400\n",
            "tensor(0.6744, device='cuda:0', grad_fn=<BinaryCrossEntropyBackward0>)\n",
            "[1,   450] accuracy: 0.631, loss: 0.013\n",
            "Epoch 1 completed. Training Loss: 0.013, Training Accuracy: 63.117\n",
            "Epoch 1 completed. Validation Loss: 0.013, Validation Accuracy: 64.103\n",
            "462\n",
            "0\n",
            "tensor(0.6687, device='cuda:0', grad_fn=<BinaryCrossEntropyBackward0>)\n",
            "[2,    50] accuracy: 0.667, loss: 0.013\n",
            "[2,   100] accuracy: 0.659, loss: 0.013\n",
            "100\n",
            "tensor(0.5975, device='cuda:0', grad_fn=<BinaryCrossEntropyBackward0>)\n",
            "[2,   150] accuracy: 0.657, loss: 0.013\n",
            "[2,   200] accuracy: 0.656, loss: 0.013\n",
            "200\n",
            "tensor(0.7462, device='cuda:0', grad_fn=<BinaryCrossEntropyBackward0>)\n",
            "[2,   250] accuracy: 0.657, loss: 0.013\n",
            "[2,   300] accuracy: 0.656, loss: 0.013\n",
            "300\n",
            "tensor(0.5228, device='cuda:0', grad_fn=<BinaryCrossEntropyBackward0>)\n",
            "[2,   350] accuracy: 0.657, loss: 0.013\n",
            "[2,   400] accuracy: 0.656, loss: 0.013\n",
            "400\n",
            "tensor(0.6571, device='cuda:0', grad_fn=<BinaryCrossEntropyBackward0>)\n",
            "[2,   450] accuracy: 0.655, loss: 0.013\n",
            "Epoch 2 completed. Training Loss: 0.013, Training Accuracy: 65.516\n",
            "Epoch 2 completed. Validation Loss: 0.013, Validation Accuracy: 65.350\n",
            "462\n",
            "0\n",
            "tensor(0.6601, device='cuda:0', grad_fn=<BinaryCrossEntropyBackward0>)\n",
            "[3,    50] accuracy: 0.676, loss: 0.012\n",
            "[3,   100] accuracy: 0.669, loss: 0.012\n",
            "100\n",
            "tensor(0.5706, device='cuda:0', grad_fn=<BinaryCrossEntropyBackward0>)\n",
            "[3,   150] accuracy: 0.669, loss: 0.012\n",
            "[3,   200] accuracy: 0.669, loss: 0.012\n",
            "200\n",
            "tensor(0.7075, device='cuda:0', grad_fn=<BinaryCrossEntropyBackward0>)\n",
            "[3,   250] accuracy: 0.671, loss: 0.012\n",
            "[3,   300] accuracy: 0.672, loss: 0.012\n",
            "300\n",
            "tensor(0.4818, device='cuda:0', grad_fn=<BinaryCrossEntropyBackward0>)\n",
            "[3,   350] accuracy: 0.673, loss: 0.012\n",
            "[3,   400] accuracy: 0.671, loss: 0.012\n",
            "400\n",
            "tensor(0.6210, device='cuda:0', grad_fn=<BinaryCrossEntropyBackward0>)\n",
            "[3,   450] accuracy: 0.672, loss: 0.012\n",
            "Epoch 3 completed. Training Loss: 0.012, Training Accuracy: 67.205\n",
            "Epoch 3 completed. Validation Loss: 0.012, Validation Accuracy: 68.746\n",
            "462\n",
            "0\n",
            "tensor(0.6260, device='cuda:0', grad_fn=<BinaryCrossEntropyBackward0>)\n",
            "[4,    50] accuracy: 0.694, loss: 0.012\n",
            "[4,   100] accuracy: 0.697, loss: 0.012\n",
            "100\n",
            "tensor(0.5436, device='cuda:0', grad_fn=<BinaryCrossEntropyBackward0>)\n",
            "[4,   150] accuracy: 0.700, loss: 0.012\n",
            "[4,   200] accuracy: 0.702, loss: 0.012\n",
            "200\n",
            "tensor(0.6583, device='cuda:0', grad_fn=<BinaryCrossEntropyBackward0>)\n",
            "[4,   250] accuracy: 0.704, loss: 0.012\n",
            "[4,   300] accuracy: 0.707, loss: 0.012\n",
            "300\n",
            "tensor(0.4829, device='cuda:0', grad_fn=<BinaryCrossEntropyBackward0>)\n",
            "[4,   350] accuracy: 0.707, loss: 0.012\n",
            "[4,   400] accuracy: 0.706, loss: 0.012\n",
            "400\n",
            "tensor(0.5714, device='cuda:0', grad_fn=<BinaryCrossEntropyBackward0>)\n",
            "[4,   450] accuracy: 0.706, loss: 0.012\n",
            "Epoch 4 completed. Training Loss: 0.011, Training Accuracy: 70.592\n",
            "Epoch 4 completed. Validation Loss: 0.011, Validation Accuracy: 72.661\n",
            "462\n",
            "0\n",
            "tensor(0.5701, device='cuda:0', grad_fn=<BinaryCrossEntropyBackward0>)\n",
            "[5,    50] accuracy: 0.744, loss: 0.011\n",
            "[5,   100] accuracy: 0.739, loss: 0.011\n",
            "100\n",
            "tensor(0.5132, device='cuda:0', grad_fn=<BinaryCrossEntropyBackward0>)\n",
            "[5,   150] accuracy: 0.738, loss: 0.011\n",
            "[5,   200] accuracy: 0.740, loss: 0.011\n",
            "200\n",
            "tensor(0.5718, device='cuda:0', grad_fn=<BinaryCrossEntropyBackward0>)\n",
            "[5,   250] accuracy: 0.740, loss: 0.011\n",
            "[5,   300] accuracy: 0.743, loss: 0.011\n",
            "300\n",
            "tensor(0.4284, device='cuda:0', grad_fn=<BinaryCrossEntropyBackward0>)\n",
            "[5,   350] accuracy: 0.741, loss: 0.011\n",
            "[5,   400] accuracy: 0.738, loss: 0.011\n",
            "400\n",
            "tensor(0.5122, device='cuda:0', grad_fn=<BinaryCrossEntropyBackward0>)\n",
            "[5,   450] accuracy: 0.737, loss: 0.011\n",
            "Epoch 5 completed. Training Loss: 0.011, Training Accuracy: 73.757\n",
            "Epoch 5 completed. Validation Loss: 0.011, Validation Accuracy: 74.705\n",
            "462\n",
            "0\n",
            "tensor(0.5534, device='cuda:0', grad_fn=<BinaryCrossEntropyBackward0>)\n",
            "[6,    50] accuracy: 0.756, loss: 0.010\n",
            "[6,   100] accuracy: 0.757, loss: 0.010\n",
            "100\n",
            "tensor(0.5580, device='cuda:0', grad_fn=<BinaryCrossEntropyBackward0>)\n",
            "[6,   150] accuracy: 0.754, loss: 0.010\n",
            "[6,   200] accuracy: 0.755, loss: 0.010\n",
            "200\n",
            "tensor(0.5421, device='cuda:0', grad_fn=<BinaryCrossEntropyBackward0>)\n",
            "[6,   250] accuracy: 0.756, loss: 0.010\n",
            "[6,   300] accuracy: 0.759, loss: 0.010\n",
            "300\n",
            "tensor(0.4271, device='cuda:0', grad_fn=<BinaryCrossEntropyBackward0>)\n",
            "[6,   350] accuracy: 0.758, loss: 0.010\n",
            "[6,   400] accuracy: 0.757, loss: 0.010\n",
            "400\n",
            "tensor(0.4780, device='cuda:0', grad_fn=<BinaryCrossEntropyBackward0>)\n",
            "[6,   450] accuracy: 0.756, loss: 0.010\n",
            "Epoch 6 completed. Training Loss: 0.010, Training Accuracy: 75.593\n",
            "Epoch 6 completed. Validation Loss: 0.010, Validation Accuracy: 76.126\n",
            "462\n",
            "0\n",
            "tensor(0.5218, device='cuda:0', grad_fn=<BinaryCrossEntropyBackward0>)\n",
            "[7,    50] accuracy: 0.770, loss: 0.010\n",
            "[7,   100] accuracy: 0.773, loss: 0.010\n",
            "100\n",
            "tensor(0.5485, device='cuda:0', grad_fn=<BinaryCrossEntropyBackward0>)\n",
            "[7,   150] accuracy: 0.773, loss: 0.010\n",
            "[7,   200] accuracy: 0.774, loss: 0.010\n",
            "200\n",
            "tensor(0.5032, device='cuda:0', grad_fn=<BinaryCrossEntropyBackward0>)\n",
            "[7,   250] accuracy: 0.776, loss: 0.010\n",
            "[7,   300] accuracy: 0.779, loss: 0.010\n",
            "300\n",
            "tensor(0.4239, device='cuda:0', grad_fn=<BinaryCrossEntropyBackward0>)\n",
            "[7,   350] accuracy: 0.777, loss: 0.010\n",
            "[7,   400] accuracy: 0.776, loss: 0.010\n",
            "400\n",
            "tensor(0.4628, device='cuda:0', grad_fn=<BinaryCrossEntropyBackward0>)\n",
            "[7,   450] accuracy: 0.773, loss: 0.010\n",
            "Epoch 7 completed. Training Loss: 0.010, Training Accuracy: 77.442\n",
            "Epoch 7 completed. Validation Loss: 0.010, Validation Accuracy: 76.299\n",
            "462\n",
            "0\n",
            "tensor(0.5510, device='cuda:0', grad_fn=<BinaryCrossEntropyBackward0>)\n",
            "[8,    50] accuracy: 0.786, loss: 0.009\n",
            "[8,   100] accuracy: 0.789, loss: 0.009\n",
            "100\n",
            "tensor(0.5596, device='cuda:0', grad_fn=<BinaryCrossEntropyBackward0>)\n",
            "[8,   150] accuracy: 0.787, loss: 0.009\n",
            "[8,   200] accuracy: 0.787, loss: 0.009\n",
            "200\n",
            "tensor(0.5406, device='cuda:0', grad_fn=<BinaryCrossEntropyBackward0>)\n",
            "[8,   250] accuracy: 0.786, loss: 0.009\n",
            "[8,   300] accuracy: 0.788, loss: 0.009\n",
            "300\n",
            "tensor(0.4173, device='cuda:0', grad_fn=<BinaryCrossEntropyBackward0>)\n",
            "[8,   350] accuracy: 0.787, loss: 0.009\n",
            "[8,   400] accuracy: 0.784, loss: 0.009\n",
            "400\n",
            "tensor(0.3728, device='cuda:0', grad_fn=<BinaryCrossEntropyBackward0>)\n",
            "[8,   450] accuracy: 0.783, loss: 0.009\n",
            "Epoch 8 completed. Training Loss: 0.009, Training Accuracy: 78.330\n",
            "Epoch 8 completed. Validation Loss: 0.010, Validation Accuracy: 77.304\n",
            "462\n",
            "0\n",
            "tensor(0.4850, device='cuda:0', grad_fn=<BinaryCrossEntropyBackward0>)\n",
            "[9,    50] accuracy: 0.797, loss: 0.009\n",
            "[9,   100] accuracy: 0.799, loss: 0.009\n",
            "100\n",
            "tensor(0.5401, device='cuda:0', grad_fn=<BinaryCrossEntropyBackward0>)\n",
            "[9,   150] accuracy: 0.799, loss: 0.009\n",
            "[9,   200] accuracy: 0.800, loss: 0.009\n",
            "200\n",
            "tensor(0.5076, device='cuda:0', grad_fn=<BinaryCrossEntropyBackward0>)\n",
            "[9,   250] accuracy: 0.799, loss: 0.009\n",
            "[9,   300] accuracy: 0.801, loss: 0.009\n",
            "300\n",
            "tensor(0.4401, device='cuda:0', grad_fn=<BinaryCrossEntropyBackward0>)\n",
            "[9,   350] accuracy: 0.800, loss: 0.009\n",
            "[9,   400] accuracy: 0.797, loss: 0.009\n",
            "400\n",
            "tensor(0.4054, device='cuda:0', grad_fn=<BinaryCrossEntropyBackward0>)\n",
            "[9,   450] accuracy: 0.796, loss: 0.009\n",
            "Epoch 9 completed. Training Loss: 0.009, Training Accuracy: 79.720\n",
            "Epoch 9 completed. Validation Loss: 0.010, Validation Accuracy: 77.270\n",
            "462\n",
            "0\n",
            "tensor(0.4171, device='cuda:0', grad_fn=<BinaryCrossEntropyBackward0>)\n",
            "[10,    50] accuracy: 0.804, loss: 0.008\n",
            "[10,   100] accuracy: 0.805, loss: 0.009\n",
            "100\n",
            "tensor(0.5499, device='cuda:0', grad_fn=<BinaryCrossEntropyBackward0>)\n",
            "[10,   150] accuracy: 0.804, loss: 0.009\n",
            "[10,   200] accuracy: 0.805, loss: 0.009\n",
            "200\n",
            "tensor(0.4148, device='cuda:0', grad_fn=<BinaryCrossEntropyBackward0>)\n",
            "[10,   250] accuracy: 0.806, loss: 0.009\n",
            "[10,   300] accuracy: 0.808, loss: 0.008\n",
            "300\n",
            "tensor(0.4030, device='cuda:0', grad_fn=<BinaryCrossEntropyBackward0>)\n",
            "[10,   350] accuracy: 0.809, loss: 0.008\n",
            "[10,   400] accuracy: 0.807, loss: 0.009\n",
            "400\n",
            "tensor(0.4354, device='cuda:0', grad_fn=<BinaryCrossEntropyBackward0>)\n",
            "[10,   450] accuracy: 0.806, loss: 0.009\n",
            "Epoch 10 completed. Training Loss: 0.009, Training Accuracy: 80.695\n",
            "Epoch 10 completed. Validation Loss: 0.009, Validation Accuracy: 78.413\n",
            "462\n",
            "0\n",
            "tensor(0.4204, device='cuda:0', grad_fn=<BinaryCrossEntropyBackward0>)\n",
            "[11,    50] accuracy: 0.825, loss: 0.008\n",
            "[11,   100] accuracy: 0.819, loss: 0.008\n",
            "100\n",
            "tensor(0.5366, device='cuda:0', grad_fn=<BinaryCrossEntropyBackward0>)\n",
            "[11,   150] accuracy: 0.818, loss: 0.008\n",
            "[11,   200] accuracy: 0.818, loss: 0.008\n",
            "200\n",
            "tensor(0.4110, device='cuda:0', grad_fn=<BinaryCrossEntropyBackward0>)\n",
            "[11,   250] accuracy: 0.818, loss: 0.008\n",
            "[11,   300] accuracy: 0.821, loss: 0.008\n",
            "300\n",
            "tensor(0.3864, device='cuda:0', grad_fn=<BinaryCrossEntropyBackward0>)\n",
            "[11,   350] accuracy: 0.821, loss: 0.008\n",
            "[11,   400] accuracy: 0.818, loss: 0.008\n",
            "400\n",
            "tensor(0.3915, device='cuda:0', grad_fn=<BinaryCrossEntropyBackward0>)\n",
            "[11,   450] accuracy: 0.816, loss: 0.008\n",
            "Epoch 11 completed. Training Loss: 0.008, Training Accuracy: 81.717\n",
            "Epoch 11 completed. Validation Loss: 0.010, Validation Accuracy: 77.963\n",
            "462\n",
            "0\n",
            "tensor(0.3999, device='cuda:0', grad_fn=<BinaryCrossEntropyBackward0>)\n",
            "[12,    50] accuracy: 0.832, loss: 0.008\n",
            "[12,   100] accuracy: 0.827, loss: 0.008\n",
            "100\n",
            "tensor(0.3931, device='cuda:0', grad_fn=<BinaryCrossEntropyBackward0>)\n",
            "[12,   150] accuracy: 0.827, loss: 0.008\n",
            "[12,   200] accuracy: 0.827, loss: 0.008\n",
            "200\n",
            "tensor(0.3854, device='cuda:0', grad_fn=<BinaryCrossEntropyBackward0>)\n",
            "[12,   250] accuracy: 0.827, loss: 0.008\n",
            "[12,   300] accuracy: 0.831, loss: 0.008\n",
            "300\n",
            "tensor(0.3562, device='cuda:0', grad_fn=<BinaryCrossEntropyBackward0>)\n",
            "[12,   350] accuracy: 0.830, loss: 0.008\n",
            "[12,   400] accuracy: 0.828, loss: 0.008\n",
            "400\n",
            "tensor(0.3893, device='cuda:0', grad_fn=<BinaryCrossEntropyBackward0>)\n",
            "[12,   450] accuracy: 0.826, loss: 0.008\n",
            "Epoch 12 completed. Training Loss: 0.008, Training Accuracy: 82.695\n",
            "Epoch 12 completed. Validation Loss: 0.009, Validation Accuracy: 79.383\n"
          ]
        }
      ],
      "source": [
        "import torch.optim as optim\n",
        "from torch.autograd import Variable\n",
        "\n",
        "\n",
        "model = model1.cuda()\n",
        "\n",
        "los_values = []\n",
        "acc_values = []\n",
        "\n",
        "val_los_values = []\n",
        "val_acc_values = []\n",
        "\n",
        "criterion = nn.BCELoss()\n",
        "optimizer = optim.SGD(model.parameters(), lr=0.01,momentum=0.9)\n",
        "\n",
        "\n",
        "\n",
        "for epoch in range(12):\n",
        "\n",
        "    running_loss = 0.0\n",
        "    running_corrects = 0.0\n",
        "    count = 0\n",
        "    print(len(train_dataloader))\n",
        "\n",
        "    for i, data in enumerate(train_dataloader, 0):\n",
        "\n",
        "        inputs, labels = data\n",
        "\n",
        "        # # Pad sequences to the maximum length in the batch\n",
        "        # max_len = max([len(seq) for seq in inputs])\n",
        "        # padded_inputs = torch.zeros(len(inputs), max_len).long()\n",
        "\n",
        "        # for idx, seq in enumerate(inputs):\n",
        "        #     padded_inputs[idx, :len(seq)] = seq\n",
        "\n",
        "        inputs, labels = Variable(inputs.cuda()), Variable(labels.cuda())\n",
        "        optimizer.zero_grad()\n",
        "        outputs = model(inputs)\n",
        "\n",
        "        preds = (outputs > 0.5).float()\n",
        "        labels = labels.view(-1, 1)\n",
        "        loss = criterion(outputs.float(), labels.float())\n",
        "\n",
        "        if(i%100 == 0):\n",
        "          print(i)\n",
        "          print(loss)\n",
        "\n",
        "        loss.backward()\n",
        "        optimizer.step()\n",
        "\n",
        "        running_loss += loss.item()\n",
        "        running_corrects += torch.sum(preds == labels.data)\n",
        "        count += len(preds)\n",
        "\n",
        "        if i % 50 == 49:\n",
        "            print(f'[{epoch + 1}, {i + 1:5d}] accuracy: {running_corrects / count:.3f}, loss: {running_loss / count:.3f}')\n",
        "\n",
        "    epoch_loss = running_loss / len(train_dataloader.dataset)\n",
        "    epoch_acc = (running_corrects / len(train_dataloader.dataset))*100\n",
        "    print(f'Epoch {epoch + 1} completed. Training Loss: {epoch_loss:.3f}, Training Accuracy: {epoch_acc:.3f}')\n",
        "    los_values.append(epoch_loss)\n",
        "    acc_values.append(epoch_acc)\n",
        "\n",
        "    running_loss = 0.0\n",
        "    running_corrects = 0\n",
        "    count = 0\n",
        "\n",
        "    val_corrects = 0.0\n",
        "    val_loss = 0.0\n",
        "\n",
        "    with torch.no_grad():\n",
        "        for data in val_dataloader:\n",
        "            inputs, labels = data\n",
        "\n",
        "            # Pad sequences to the maximum length in the batch\n",
        "            # max_len = max([len(seq) for seq in inputs])\n",
        "            # padded_inputs = torch.zeros(len(inputs), max_len).long()\n",
        "\n",
        "            # for idx, seq in enumerate(inputs):\n",
        "            #     padded_inputs[idx, :len(seq)] = seq\n",
        "\n",
        "            inputs, labels = Variable(inputs.cuda()), Variable(labels.cuda())\n",
        "\n",
        "            outputs = model(inputs)\n",
        "            preds = (outputs > 0.5).float()\n",
        "            labels = labels.view(-1, 1)\n",
        "            vloss = criterion(outputs.float(), labels.float())\n",
        "\n",
        "            val_loss +=vloss.item()\n",
        "            val_corrects += torch.sum(preds == labels.data)\n",
        "\n",
        "    val_accuracy = (val_corrects / len(val_dataloader.dataset)) * 100\n",
        "    ep_val_loss = val_loss/len(val_dataloader.dataset)\n",
        "\n",
        "    print(f'Epoch {epoch + 1} completed. Validation Loss: {ep_val_loss:.3f}, Validation Accuracy: {val_accuracy:.3f}')\n",
        "    val_los_values.append(ep_val_loss)\n",
        "    val_acc_values.append(val_accuracy)"
      ]
    },
    {
      "cell_type": "code",
      "execution_count": null,
      "metadata": {
        "colab": {
          "base_uri": "https://localhost:8080/"
        },
        "id": "w8OdGrwpnqo4",
        "outputId": "6b63b9cd-4648-4666-9490-12a904a78713"
      },
      "outputs": [
        {
          "name": "stdout",
          "output_type": "stream",
          "text": [
            "Test Accuracy: 79.18%\n"
          ]
        }
      ],
      "source": [
        "# NOTE: if the accuracy on test data after 15 epochs is less than 80% smth goes wrong\n",
        "model.eval()\n",
        "test_corrects = 0\n",
        "test_total = 0\n",
        "\n",
        "y_predl = []\n",
        "y_truel = []\n",
        "\n",
        "with torch.no_grad():\n",
        "    for data in test_dataloader:\n",
        "        inputs, labels = data\n",
        "        # max_len = max([len(seq) for seq in inputs])\n",
        "        # padded_inputs = torch.zeros(len(inputs), max_len).long()\n",
        "\n",
        "        # for idx, seq in enumerate(inputs):\n",
        "        #     padded_inputs[idx, :len(seq)] = seq\n",
        "\n",
        "        inputs, labels = Variable(inputs.cuda()), Variable(labels.cuda())\n",
        "\n",
        "        outputs = model(inputs)\n",
        "        preds = (outputs > 0.5).float()\n",
        "        labels = labels.view(-1, 1)\n",
        "\n",
        "        #print(preds)\n",
        "        #print(labels.data)\n",
        "\n",
        "        test_corrects += torch.sum(preds == labels.data)\n",
        "        test_total += len(preds)\n",
        "\n",
        "        y_predl.append(preds)\n",
        "        y_truel.append(labels.data)\n",
        "\n",
        "\n",
        "test_accuracy = (test_corrects / test_total) * 100\n",
        "print(f'Test Accuracy: {test_accuracy:.2f}%')\n"
      ]
    },
    {
      "cell_type": "code",
      "execution_count": null,
      "metadata": {
        "colab": {
          "base_uri": "https://localhost:8080/",
          "height": 302
        },
        "id": "OO3DTjSdnu80",
        "outputId": "8c6c8cd3-b9d9-4c4b-e67d-429b09080c7f"
      },
      "outputs": [
        {
          "data": {
            "image/png": "[encoded data removed]",
            "text/plain": [
              "<Figure size 1600x600 with 2 Axes>"
            ]
          },
          "metadata": {},
          "output_type": "display_data"
        }
      ],
      "source": [
        "import matplotlib.pyplot as plt\n",
        "import numpy as np\n",
        "\n",
        "epochs = range(1, len(los_values) + 1)\n",
        "\n",
        "acc_train= [tensor.item() for tensor in acc_values]\n",
        "acc_val = [tensor.item() for tensor in val_acc_values]\n",
        "\n",
        "fig, axs = plt.subplots(1, 2, figsize=(16, 6))\n",
        "plt.subplots_adjust(left=0.1, right=1.5, bottom=0.1, top=0.9)\n",
        "\n",
        "axs[0].plot(epochs, los_values, 'b', label='Training loss')\n",
        "axs[0].plot(epochs, val_los_values, 'r', label='Validation loss')\n",
        "axs[0].set_title('Training and Validation Loss')\n",
        "axs[0].set_xlabel('Epochs')\n",
        "axs[0].set_ylabel('Loss')\n",
        "axs[0].legend()\n",
        "axs[0].grid(True)\n",
        "\n",
        "\n",
        "axs[1].plot(epochs, acc_train, 'b', label='Training accuracy')\n",
        "axs[1].plot(epochs, acc_val, 'r', label='Validation accuracy')\n",
        "axs[1].set_title('Training and Validation Accuracy')\n",
        "axs[1].set_xlabel('Epochs')\n",
        "axs[1].set_ylabel('Accuracy')\n",
        "axs[1].legend()\n",
        "axs[1].grid(True)\n",
        "\n",
        "plt.show()"
      ]
    },
    {
      "cell_type": "code",
      "execution_count": null,
      "metadata": {
        "colab": {
          "base_uri": "https://localhost:8080/"
        },
        "id": "d8uOUcyuEPup",
        "outputId": "244d4824-56c5-4429-b2f6-517e10b72830"
      },
      "outputs": [
        {
          "name": "stdout",
          "output_type": "stream",
          "text": [
            "Precision: 0.7979\n",
            "Recall: 0.8756\n",
            "F1 Score: 0.8349\n",
            "Confusion Matrix:\n",
            "[[ 766  385]\n",
            " [ 216 1520]]\n"
          ]
        }
      ],
      "source": [
        "from sklearn.metrics import precision_score, recall_score, f1_score, confusion_matrix\n",
        "y_pred = torch.cat(y_predl).cpu().numpy().flatten()\n",
        "y_true = torch.cat(y_truel).cpu().numpy().flatten()\n",
        "\n",
        "# Compute precision, recall, and F1 score\n",
        "precision = precision_score(y_true, y_pred)\n",
        "recall = recall_score(y_true, y_pred)\n",
        "f1 = f1_score(y_true, y_pred)\n",
        "\n",
        "# Compute confusion matrix\n",
        "conf_matrix = confusion_matrix(y_true, y_pred)\n",
        "\n",
        "print(f'Precision: {precision:.4f}')\n",
        "print(f'Recall: {recall:.4f}')\n",
        "print(f'F1 Score: {f1:.4f}')\n",
        "print(f'Confusion Matrix:\\n{conf_matrix}')"
      ]
    },
    {
      "cell_type": "code",
      "execution_count": null,
      "metadata": {
        "colab": {
          "base_uri": "https://localhost:8080/"
        },
        "id": "P_Wr9k3JkT8P",
        "outputId": "6956b1a4-6b81-4fee-daf0-587ffd0798cc"
      },
      "outputs": [
        {
          "name": "stdout",
          "output_type": "stream",
          "text": [
            "Class 1 - True Positive Rate: 0.67, False Positive Rate: 0.12\n",
            "Class 1 - Precision: 0.78, Recall: 0.67\n",
            "\n",
            "Class 2 - True Positive Rate: 0.88, False Positive Rate: 0.33\n",
            "Class 2 - Precision: 0.80, Recall: 0.88\n",
            "\n"
          ]
        }
      ],
      "source": [
        "from sklearn.metrics import confusion_matrix\n",
        "con_mat = confusion_matrix(y_true, y_pred)\n",
        "\n",
        "number_of_classes = con_mat.shape[0]\n",
        "\n",
        "for i in range(number_of_classes):\n",
        "\n",
        "    tp = con_mat[i, i]\n",
        "    fn = np.sum(con_mat[i, :]) - tp\n",
        "    fp = np.sum(con_mat[:, i]) - tp\n",
        "    tn = np.sum(con_mat) - (tp + fn + fp)\n",
        "\n",
        "    precision = tp / (tp + fp) if tp + fp != 0 else 0\n",
        "    recall = tp / (tp + fn) if tp + fn != 0 else 0\n",
        "\n",
        "    tpr = tp / (tp + fn) if tp + fn != 0 else 0\n",
        "    fpr = fp / (fp + tn) if fp + tn != 0 else 0\n",
        "\n",
        "    print(f\"Class {i + 1} - True Positive Rate: {tpr:.2f}, False Positive Rate: {fpr:.2f}\")\n",
        "    print(f\"Class {i + 1} - Precision: {precision:.2f}, Recall: {recall:.2f}\")\n",
        "    print()"
      ]
    },
    {
      "cell_type": "code",
      "execution_count": null,
      "metadata": {
        "colab": {
          "base_uri": "https://localhost:8080/",
          "height": 466
        },
        "id": "kHAPVH-blR_I",
        "outputId": "3fc6a5d3-eb6d-4316-c008-e72645f4bdef"
      },
      "outputs": [
        {
          "data": {
            "image/png": "[encoded data removed]",
            "text/plain": [
              "<Figure size 640x480 with 2 Axes>"
            ]
          },
          "metadata": {},
          "output_type": "display_data"
        },
        {
          "data": {
            "text/plain": [
              "<Figure size 2000x1000 with 0 Axes>"
            ]
          },
          "metadata": {},
          "output_type": "display_data"
        }
      ],
      "source": [
        "import seaborn as sns\n",
        "sns.heatmap(con_mat, annot=True, fmt='d', cmap='cividis', cbar=True)\n",
        "\n",
        "plt.xlabel('Predicted')\n",
        "plt.ylabel('True')\n",
        "plt.figure(figsize=(20,10))\n",
        "plt.show()\n"
      ]
    },
    {
      "cell_type": "code",
      "execution_count": null,
      "metadata": {
        "colab": {
          "base_uri": "https://localhost:8080/"
        },
        "id": "xbdO1TkDlYRD",
        "outputId": "247d5b9b-2321-47c1-8353-dfaf72713290"
      },
      "outputs": [
        {
          "name": "stdout",
          "output_type": "stream",
          "text": [
            "TransformHelp(\n",
            "  (embd): Embedding(400001, 74, padding_idx=0)\n",
            "  (tra_enc_layer): TransformerEncoderLayer(\n",
            "    (self_attn): MultiheadAttention(\n",
            "      (out_proj): NonDynamicallyQuantizableLinear(in_features=74, out_features=74, bias=True)\n",
            "    )\n",
            "    (linear1): Linear(in_features=74, out_features=256, bias=True)\n",
            "    (dropout): Dropout(p=0.1, inplace=False)\n",
            "    (linear2): Linear(in_features=256, out_features=74, bias=True)\n",
            "    (norm1): LayerNorm((74,), eps=1e-05, elementwise_affine=True)\n",
            "    (norm2): LayerNorm((74,), eps=1e-05, elementwise_affine=True)\n",
            "    (dropout1): Dropout(p=0.1, inplace=False)\n",
            "    (dropout2): Dropout(p=0.1, inplace=False)\n",
            "  )\n",
            "  (trans_enc): TransformerEncoder(\n",
            "    (layers): ModuleList(\n",
            "      (0-5): 6 x TransformerEncoderLayer(\n",
            "        (self_attn): MultiheadAttention(\n",
            "          (out_proj): NonDynamicallyQuantizableLinear(in_features=74, out_features=74, bias=True)\n",
            "        )\n",
            "        (linear1): Linear(in_features=74, out_features=256, bias=True)\n",
            "        (dropout): Dropout(p=0.1, inplace=False)\n",
            "        (linear2): Linear(in_features=256, out_features=74, bias=True)\n",
            "        (norm1): LayerNorm((74,), eps=1e-05, elementwise_affine=True)\n",
            "        (norm2): LayerNorm((74,), eps=1e-05, elementwise_affine=True)\n",
            "        (dropout1): Dropout(p=0.1, inplace=False)\n",
            "        (dropout2): Dropout(p=0.1, inplace=False)\n",
            "      )\n",
            "    )\n",
            "  )\n",
            "  (fc): Linear(in_features=74, out_features=1, bias=True)\n",
            ")\n"
          ]
        }
      ],
      "source": [
        "print(model)"
      ]
    },
    {
      "cell_type": "code",
      "execution_count": null,
      "metadata": {
        "id": "_r-jSSWslq55"
      },
      "outputs": [],
      "source": [
        "import pickle\n",
        "with open('/content/drive/MyDrive/DL_Proj-main/DL_Proj-changes/transformer_glove.pkl', 'wb') as f:\n",
        "    pickle.dump(model, f)"
      ]
    },
    {
      "cell_type": "code",
      "execution_count": null,
      "metadata": {
        "id": "d3ZGGoggm2PP"
      },
      "outputs": [],
      "source": [
        "with open('/content/drive/MyDrive/DL_Proj-main/DL_Proj-changes/transformer_glove.pkl', 'rb') as f:\n",
        "    loaded_model = pickle.load(f)"
      ]
    },
    {
      "cell_type": "code",
      "execution_count": null,
      "metadata": {
        "colab": {
          "base_uri": "https://localhost:8080/",
          "height": 427
        },
        "id": "ym8-vJqxm6Mh",
        "outputId": "35377407-ff94-4bc5-c634-f16ad412ce19"
      },
      "outputs": [
        {
          "name": "stdout",
          "output_type": "stream",
          "text": [
            "0.7705421452794005\n"
          ]
        },
        {
          "data": {
            "image/png": "[encoded data removed]",
            "text/plain": [
              "<Figure size 600x400 with 1 Axes>"
            ]
          },
          "metadata": {},
          "output_type": "display_data"
        }
      ],
      "source": [
        "from sklearn.metrics import roc_curve, auc\n",
        "fpr, tpr, _ = roc_curve(y_true, y_pred)\n",
        "roc_auc = auc(fpr, tpr)\n",
        "print(roc_auc)\n",
        "# Plot ROC curve\n",
        "plt.figure(figsize=(6, 4))\n",
        "plt.plot(fpr, tpr, color='darkorange', lw=2, label=f'ROC curve (area = {roc_auc:.2f})')\n",
        "plt.plot([0, 1], [0, 1], color='navy', lw=2, linestyle='--')\n",
        "plt.xlim([0.0, 1.0])\n",
        "plt.ylim([0.0, 1.05])\n",
        "plt.xlabel('False Positive Rate')\n",
        "plt.ylabel('True Positive Rate')\n",
        "plt.title('Receiver Operating Characteristic (ROC) Curve')\n",
        "plt.legend(loc='lower right')\n",
        "plt.show()"
      ]
    },
    {
      "cell_type": "code",
      "execution_count": null,
      "metadata": {
        "colab": {
          "base_uri": "https://localhost:8080/",
          "height": 410
        },
        "id": "Fk_MCl0USFE6",
        "outputId": "859c0583-7b08-45bf-86eb-e0cfb012848d"
      },
      "outputs": [
        {
          "data": {
            "image/png": "[encoded data removed]",
            "text/plain": [
              "<Figure size 600x400 with 1 Axes>"
            ]
          },
          "metadata": {},
          "output_type": "display_data"
        }
      ],
      "source": [
        "from sklearn.metrics import precision_recall_curve\n",
        "precision, recall, _ = precision_recall_curve(y_true, y_pred)\n",
        "\n",
        "# Plot Precision-Recall curve\n",
        "plt.figure(figsize=(6, 4))\n",
        "plt.plot(recall, precision, color='darkorange', lw=2)\n",
        "#plt.fill_between(recall, precision, alpha=0.2, color='b')\n",
        "plt.xlabel('Recall')\n",
        "plt.ylabel('Precision')\n",
        "plt.ylim([0.0, 1.05])\n",
        "plt.xlim([0.0, 1.0])\n",
        "plt.title('Precision-Recall Curve')\n",
        "plt.show()"
      ]
    },
    {
      "cell_type": "code",
      "execution_count": null,
      "metadata": {
        "id": "B3BfkaTUSald"
      },
      "outputs": [],
      "source": []
    }
  ],
  "metadata": {
    "accelerator": "GPU",
    "colab": {
      "gpuType": "T4",
      "provenance": []
    },
    "kernelspec": {
      "display_name": "Python 3",
      "name": "python3"
    },
    "language_info": {
      "name": "python"
    }
  },
  "nbformat": 4,
  "nbformat_minor": 0
}